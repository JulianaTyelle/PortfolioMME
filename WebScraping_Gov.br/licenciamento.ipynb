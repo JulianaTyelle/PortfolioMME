{
 "cells": [
  {
   "cell_type": "code",
   "execution_count": 2,
   "metadata": {},
   "outputs": [
    {
     "name": "stdout",
     "output_type": "stream",
     "text": [
      "Requirement already satisfied: selenium in c:\\users\\juliana.pires\\appdata\\local\\programs\\python\\python312\\lib\\site-packages (4.19.0)\n",
      "Requirement already satisfied: urllib3<3,>=1.26 in c:\\users\\juliana.pires\\appdata\\local\\programs\\python\\python312\\lib\\site-packages (from urllib3[socks]<3,>=1.26->selenium) (2.2.1)\n",
      "Requirement already satisfied: trio~=0.17 in c:\\users\\juliana.pires\\appdata\\local\\programs\\python\\python312\\lib\\site-packages (from selenium) (0.25.0)\n",
      "Requirement already satisfied: trio-websocket~=0.9 in c:\\users\\juliana.pires\\appdata\\local\\programs\\python\\python312\\lib\\site-packages (from selenium) (0.11.1)\n",
      "Requirement already satisfied: certifi>=2021.10.8 in c:\\users\\juliana.pires\\appdata\\local\\programs\\python\\python312\\lib\\site-packages (from selenium) (2024.2.2)\n",
      "Requirement already satisfied: typing_extensions>=4.9.0 in c:\\users\\juliana.pires\\appdata\\local\\programs\\python\\python312\\lib\\site-packages (from selenium) (4.10.0)\n",
      "Requirement already satisfied: attrs>=23.2.0 in c:\\users\\juliana.pires\\appdata\\local\\programs\\python\\python312\\lib\\site-packages (from trio~=0.17->selenium) (23.2.0)\n",
      "Requirement already satisfied: sortedcontainers in c:\\users\\juliana.pires\\appdata\\local\\programs\\python\\python312\\lib\\site-packages (from trio~=0.17->selenium) (2.4.0)\n",
      "Requirement already satisfied: idna in c:\\users\\juliana.pires\\appdata\\local\\programs\\python\\python312\\lib\\site-packages (from trio~=0.17->selenium) (3.6)\n",
      "Requirement already satisfied: outcome in c:\\users\\juliana.pires\\appdata\\local\\programs\\python\\python312\\lib\\site-packages (from trio~=0.17->selenium) (1.3.0.post0)\n",
      "Requirement already satisfied: sniffio>=1.3.0 in c:\\users\\juliana.pires\\appdata\\local\\programs\\python\\python312\\lib\\site-packages (from trio~=0.17->selenium) (1.3.1)\n",
      "Requirement already satisfied: cffi>=1.14 in c:\\users\\juliana.pires\\appdata\\local\\programs\\python\\python312\\lib\\site-packages (from trio~=0.17->selenium) (1.16.0)\n",
      "Requirement already satisfied: wsproto>=0.14 in c:\\users\\juliana.pires\\appdata\\local\\programs\\python\\python312\\lib\\site-packages (from trio-websocket~=0.9->selenium) (1.2.0)\n",
      "Requirement already satisfied: pysocks!=1.5.7,<2.0,>=1.5.6 in c:\\users\\juliana.pires\\appdata\\local\\programs\\python\\python312\\lib\\site-packages (from urllib3[socks]<3,>=1.26->selenium) (1.7.1)\n",
      "Requirement already satisfied: pycparser in c:\\users\\juliana.pires\\appdata\\local\\programs\\python\\python312\\lib\\site-packages (from cffi>=1.14->trio~=0.17->selenium) (2.21)\n",
      "Requirement already satisfied: h11<1,>=0.9.0 in c:\\users\\juliana.pires\\appdata\\local\\programs\\python\\python312\\lib\\site-packages (from wsproto>=0.14->trio-websocket~=0.9->selenium) (0.14.0)\n",
      "Requirement already satisfied: chromedriver-autoinstaller in c:\\users\\juliana.pires\\appdata\\local\\programs\\python\\python312\\lib\\site-packages (0.6.4)\n",
      "Requirement already satisfied: packaging>=23.1 in c:\\users\\juliana.pires\\appdata\\roaming\\python\\python312\\site-packages (from chromedriver-autoinstaller) (24.0)\n",
      "Requirement already satisfied: pandas in c:\\users\\juliana.pires\\appdata\\local\\programs\\python\\python312\\lib\\site-packages (2.2.1)\n",
      "Requirement already satisfied: numpy<2,>=1.26.0 in c:\\users\\juliana.pires\\appdata\\local\\programs\\python\\python312\\lib\\site-packages (from pandas) (1.26.4)\n",
      "Requirement already satisfied: python-dateutil>=2.8.2 in c:\\users\\juliana.pires\\appdata\\roaming\\python\\python312\\site-packages (from pandas) (2.9.0.post0)\n",
      "Requirement already satisfied: pytz>=2020.1 in c:\\users\\juliana.pires\\appdata\\local\\programs\\python\\python312\\lib\\site-packages (from pandas) (2024.1)\n",
      "Requirement already satisfied: tzdata>=2022.7 in c:\\users\\juliana.pires\\appdata\\local\\programs\\python\\python312\\lib\\site-packages (from pandas) (2024.1)\n",
      "Requirement already satisfied: six>=1.5 in c:\\users\\juliana.pires\\appdata\\roaming\\python\\python312\\site-packages (from python-dateutil>=2.8.2->pandas) (1.16.0)\n",
      "Requirement already satisfied: requests in c:\\users\\juliana.pires\\appdata\\local\\programs\\python\\python312\\lib\\site-packages (2.31.0)\n",
      "Requirement already satisfied: charset-normalizer<4,>=2 in c:\\users\\juliana.pires\\appdata\\local\\programs\\python\\python312\\lib\\site-packages (from requests) (3.3.2)\n",
      "Requirement already satisfied: idna<4,>=2.5 in c:\\users\\juliana.pires\\appdata\\local\\programs\\python\\python312\\lib\\site-packages (from requests) (3.6)\n",
      "Requirement already satisfied: urllib3<3,>=1.21.1 in c:\\users\\juliana.pires\\appdata\\local\\programs\\python\\python312\\lib\\site-packages (from requests) (2.2.1)\n",
      "Requirement already satisfied: certifi>=2017.4.17 in c:\\users\\juliana.pires\\appdata\\local\\programs\\python\\python312\\lib\\site-packages (from requests) (2024.2.2)\n",
      "Requirement already satisfied: bs4 in c:\\users\\juliana.pires\\appdata\\local\\programs\\python\\python312\\lib\\site-packages (0.0.2)\n",
      "Requirement already satisfied: beautifulsoup4 in c:\\users\\juliana.pires\\appdata\\local\\programs\\python\\python312\\lib\\site-packages (from bs4) (4.12.3)\n",
      "Requirement already satisfied: soupsieve>1.2 in c:\\users\\juliana.pires\\appdata\\local\\programs\\python\\python312\\lib\\site-packages (from beautifulsoup4->bs4) (2.5)\n"
     ]
    }
   ],
   "source": [
    "!pip install selenium\n",
    "!pip install chromedriver-autoinstaller\n",
    "!pip install pandas\n",
    "!pip install requests\n",
    "!pip install bs4"
   ]
  },
  {
   "cell_type": "code",
   "execution_count": 3,
   "metadata": {},
   "outputs": [],
   "source": [
    "import pandas as pd\n",
    "import time\n",
    "import requests\n",
    "import chromedriver_autoinstaller\n",
    "\n",
    "from selenium import webdriver\n",
    "from selenium.webdriver.chrome.service import Service\n",
    "from selenium.webdriver.common.by import By\n",
    "from selenium.webdriver.common.keys import Keys\n",
    "from selenium.webdriver.support.ui import Select\n",
    "from selenium.webdriver.chrome.options import Options\n",
    "from bs4 import BeautifulSoup"
   ]
  },
  {
   "cell_type": "code",
   "execution_count": 4,
   "metadata": {},
   "outputs": [],
   "source": [
    "service = Service()\n",
    "\n",
    "options = webdriver.ChromeOptions()\n",
    "\n",
    "driver = webdriver.Chrome(service=service, options=options)"
   ]
  },
  {
   "cell_type": "code",
   "execution_count": 5,
   "metadata": {},
   "outputs": [],
   "source": [
    "driver.get(\"https://anmlegis.datalegis.net/action/ActionDatalegis.php?acao=apresentacao&cod_modulo=351&cod_menu=8014\")\n",
    "time.sleep(5)"
   ]
  },
  {
   "cell_type": "code",
   "execution_count": 6,
   "metadata": {},
   "outputs": [],
   "source": [
    "driver.find_element(By.XPATH,'//*[@id=\"column-2\"]/div[1]/a[4]').click()\n",
    "#clica em \"Títulos Outorgados\""
   ]
  },
  {
   "cell_type": "code",
   "execution_count": 7,
   "metadata": {},
   "outputs": [],
   "source": [
    "driver.find_element(By.XPATH,'//*[@id=\"column-2\"]/div/div[2]/div[4]/ul/li[3]/a').click()\n",
    "time.sleep(5)\n",
    "#clica em \"Licenciamento\""
   ]
  },
  {
   "cell_type": "code",
   "execution_count": 8,
   "metadata": {},
   "outputs": [],
   "source": [
    "driver.find_element(By.XPATH,'//*[@id=\"column-2\"]/div[1]/ul[1]/li[1]/a').click()\n",
    "time.sleep(5)\n",
    "#clica em \"2027\""
   ]
  },
  {
   "cell_type": "code",
   "execution_count": 9,
   "metadata": {},
   "outputs": [],
   "source": [
    "soup2027 = BeautifulSoup(driver.page_source, 'html.parser')"
   ]
  },
  {
   "cell_type": "code",
   "execution_count": 10,
   "metadata": {},
   "outputs": [],
   "source": [
    "tabela2027 = soup2027.find('div', {'class': {'col-lg-11 col-md-11 col-sm-12'}})"
   ]
  },
  {
   "cell_type": "code",
   "execution_count": 11,
   "metadata": {},
   "outputs": [],
   "source": [
    "titulos2027 = tabela2027.find_all('strong', {})\n",
    "conteudos2027 = tabela2027.find_all('p')[0:10:2]\n",
    "datasPublicacao2027 = tabela2027.find_all('p', {'class': 'data-hora'})"
   ]
  },
  {
   "cell_type": "code",
   "execution_count": 12,
   "metadata": {},
   "outputs": [],
   "source": [
    "lista_titulos2027 = []\n",
    "lista_conteudos2027 = []\n",
    "lista_datasPublicacao2027 = []\n",
    "\n",
    "for titulo2027 in titulos2027:\n",
    "  lista_titulos2027.append(titulo2027.get_text().strip())\n",
    "\n",
    "for conteudo2027 in conteudos2027:\n",
    "  lista_conteudos2027.append(conteudo2027.get_text().strip())\n",
    "\n",
    "for dataPublicacao2027 in datasPublicacao2027:\n",
    "  lista_datasPublicacao2027.append(dataPublicacao2027.get_text().strip())\n",
    "\n",
    "df_licenciamento2027 = pd.DataFrame([lista_titulos2027, lista_conteudos2027, lista_datasPublicacao2027]).T"
   ]
  },
  {
   "cell_type": "code",
   "execution_count": 13,
   "metadata": {},
   "outputs": [],
   "source": [
    "driver.back()"
   ]
  },
  {
   "cell_type": "code",
   "execution_count": 14,
   "metadata": {},
   "outputs": [],
   "source": [
    "driver.find_element(By.XPATH,'//*[@id=\"column-2\"]/div[1]/ul[1]/li[2]/a').click()\n",
    "time.sleep(5)\n",
    "#clica em \"2024\""
   ]
  },
  {
   "cell_type": "code",
   "execution_count": 15,
   "metadata": {},
   "outputs": [],
   "source": [
    "last_height2024 = driver.execute_script(\"return document.body.scrollHeight\")"
   ]
  },
  {
   "cell_type": "code",
   "execution_count": 16,
   "metadata": {},
   "outputs": [],
   "source": [
    "for vez2024 in range (16):\n",
    "    driver.execute_script(\"window.scrollTo(0, document.body.scrollHeight);\")\n",
    "    time.sleep(5)\n",
    "\n",
    "    new_height2024 = driver.execute_script(\"return document.body.scrollHeight\")\n",
    "\n",
    "    if new_height2024 == last_height2024 :\n",
    "        break   \n",
    "    last_height2024 = new_height2024"
   ]
  },
  {
   "cell_type": "code",
   "execution_count": 17,
   "metadata": {},
   "outputs": [],
   "source": [
    "soup2024 = BeautifulSoup(driver.page_source, 'html.parser')"
   ]
  },
  {
   "cell_type": "code",
   "execution_count": 18,
   "metadata": {},
   "outputs": [],
   "source": [
    "tabela2024 = soup2024.find('div', {'class': {'col-lg-11 col-md-11 col-sm-12'}})"
   ]
  },
  {
   "cell_type": "code",
   "execution_count": 19,
   "metadata": {},
   "outputs": [],
   "source": [
    "titulos2024 = tabela2024.find_all('strong', {})\n",
    "conteudos2024 = tabela2024.find_all('p')[0:800:2]\n",
    "datasPublicacao2024 = tabela2024.find_all('p', {'class': 'data-hora'})"
   ]
  },
  {
   "cell_type": "code",
   "execution_count": 20,
   "metadata": {},
   "outputs": [],
   "source": [
    "lista_titulos2024 = []\n",
    "lista_conteudos2024 = []\n",
    "lista_datasPublicacao2024 = []\n",
    "\n",
    "for titulo2024 in titulos2024:\n",
    "  lista_titulos2024.append(titulo2024.get_text().strip())\n",
    "\n",
    "for conteudo2024 in conteudos2024:\n",
    "  lista_conteudos2024.append(conteudo2024.get_text().strip())\n",
    "\n",
    "for dataPublicacao2024 in datasPublicacao2024:\n",
    "  lista_datasPublicacao2024.append(dataPublicacao2024.get_text().strip())\n",
    "\n",
    "df_licenciamento2024 = pd.DataFrame([lista_titulos2024, lista_conteudos2024, lista_datasPublicacao2024]).T"
   ]
  },
  {
   "cell_type": "code",
   "execution_count": 21,
   "metadata": {},
   "outputs": [],
   "source": [
    "driver.back()"
   ]
  },
  {
   "cell_type": "code",
   "execution_count": 22,
   "metadata": {},
   "outputs": [],
   "source": [
    "driver.find_element(By.XPATH,'//*[@id=\"column-2\"]/div[1]/ul[1]/li[3]/a').click()\n",
    "time.sleep(5)\n",
    "#clica em \"2023\""
   ]
  },
  {
   "cell_type": "code",
   "execution_count": 23,
   "metadata": {},
   "outputs": [],
   "source": [
    "last_height2023 = driver.execute_script(\"return document.body.scrollHeight\")"
   ]
  },
  {
   "cell_type": "code",
   "execution_count": 24,
   "metadata": {},
   "outputs": [],
   "source": [
    "for vez2023 in range (48):\n",
    "    driver.execute_script(\"window.scrollTo(0, document.body.scrollHeight);\")\n",
    "    time.sleep(5)\n",
    "\n",
    "    new_height2023 = driver.execute_script(\"return document.body.scrollHeight\")\n",
    "\n",
    "    if new_height2023 == last_height2023 :\n",
    "        break   \n",
    "    last_height2023 = new_height2023"
   ]
  },
  {
   "cell_type": "code",
   "execution_count": 25,
   "metadata": {},
   "outputs": [],
   "source": [
    "soup2023 = BeautifulSoup(driver.page_source, 'html.parser')"
   ]
  },
  {
   "cell_type": "code",
   "execution_count": 26,
   "metadata": {},
   "outputs": [],
   "source": [
    "tabela2023 = soup2023.find('div', {'class': {'col-lg-11 col-md-11 col-sm-12'}})"
   ]
  },
  {
   "cell_type": "code",
   "execution_count": 27,
   "metadata": {},
   "outputs": [],
   "source": [
    "titulos2023 = tabela2023.find_all('strong', {})\n",
    "conteudos2023 = tabela2023.find_all('p')[0:2000:2]\n",
    "datasPublicacao2023 = tabela2023.find_all('p', {'class': 'data-hora'})"
   ]
  },
  {
   "cell_type": "code",
   "execution_count": 28,
   "metadata": {},
   "outputs": [],
   "source": [
    "lista_titulos2023 = []\n",
    "lista_conteudos2023 = []\n",
    "lista_datasPublicacao2023 = []\n",
    "\n",
    "for titulo2023 in titulos2023:\n",
    "  lista_titulos2023.append(titulo2023.get_text().strip())\n",
    "\n",
    "for conteudo2023 in conteudos2023:\n",
    "  lista_conteudos2023.append(conteudo2023.get_text().strip())\n",
    "\n",
    "for dataPublicacao2023 in datasPublicacao2023:\n",
    "  lista_datasPublicacao2023.append(dataPublicacao2023.get_text().strip())\n",
    "\n",
    "df_licenciamento2023 = pd.DataFrame([lista_titulos2023, lista_conteudos2023, lista_datasPublicacao2023]).T"
   ]
  },
  {
   "cell_type": "code",
   "execution_count": 29,
   "metadata": {},
   "outputs": [],
   "source": [
    "driver.back()"
   ]
  },
  {
   "cell_type": "code",
   "execution_count": 30,
   "metadata": {},
   "outputs": [],
   "source": [
    "driver.find_element(By.XPATH,'//*[@id=\"column-2\"]/div[1]/ul[1]/li[4]/a').click()\n",
    "time.sleep(5)\n",
    "#clica em \"2022\""
   ]
  },
  {
   "cell_type": "code",
   "execution_count": 31,
   "metadata": {},
   "outputs": [],
   "source": [
    "last_height2022 = driver.execute_script(\"return document.body.scrollHeight\")"
   ]
  },
  {
   "cell_type": "code",
   "execution_count": 32,
   "metadata": {},
   "outputs": [],
   "source": [
    "for vez2022 in range (63):\n",
    "    driver.execute_script(\"window.scrollTo(0, document.body.scrollHeight);\")\n",
    "    time.sleep(5)\n",
    "\n",
    "    new_height2022 = driver.execute_script(\"return document.body.scrollHeight\")\n",
    "\n",
    "    if new_height2022 == last_height2022 :\n",
    "        break   \n",
    "    last_height2022 = new_height2022"
   ]
  },
  {
   "cell_type": "code",
   "execution_count": 33,
   "metadata": {},
   "outputs": [],
   "source": [
    "soup2022 = BeautifulSoup(driver.page_source, 'html.parser')"
   ]
  },
  {
   "cell_type": "code",
   "execution_count": 34,
   "metadata": {},
   "outputs": [],
   "source": [
    "tabela2022 = soup2022.find('div', {'class': {'col-lg-11 col-md-11 col-sm-12'}})"
   ]
  },
  {
   "cell_type": "code",
   "execution_count": 35,
   "metadata": {},
   "outputs": [],
   "source": [
    "titulos2022 = tabela2022.find_all('strong', {})\n",
    "conteudos2022 = tabela2022.find_all('p')[0:2600:2]\n",
    "datasPublicacao2022 = tabela2022.find_all('p', {'class': 'data-hora'})"
   ]
  },
  {
   "cell_type": "code",
   "execution_count": 36,
   "metadata": {},
   "outputs": [],
   "source": [
    "lista_titulos2022 = []\n",
    "lista_conteudos2022 = []\n",
    "lista_datasPublicacao2022 = []\n",
    "\n",
    "for titulo2022 in titulos2022:\n",
    "  lista_titulos2022.append(titulo2022.get_text().strip())\n",
    "\n",
    "for conteudo2022 in conteudos2022:\n",
    "  lista_conteudos2022.append(conteudo2022.get_text().strip())\n",
    "\n",
    "for dataPublicacao2022 in datasPublicacao2022:\n",
    "  lista_datasPublicacao2022.append(dataPublicacao2022.get_text().strip())\n",
    "\n",
    "df_licenciamento2022 = pd.DataFrame([lista_titulos2022, lista_conteudos2022, lista_datasPublicacao2022]).T"
   ]
  },
  {
   "cell_type": "code",
   "execution_count": 37,
   "metadata": {},
   "outputs": [],
   "source": [
    "driver.back()"
   ]
  },
  {
   "cell_type": "code",
   "execution_count": 38,
   "metadata": {},
   "outputs": [],
   "source": [
    "driver.find_element(By.XPATH,'//*[@id=\"column-2\"]/div[1]/ul[1]/li[5]/a').click()\n",
    "time.sleep(5)\n",
    "#clica em \"2021\""
   ]
  },
  {
   "cell_type": "code",
   "execution_count": 39,
   "metadata": {},
   "outputs": [],
   "source": [
    "last_height2021 = driver.execute_script(\"return document.body.scrollHeight\")"
   ]
  },
  {
   "cell_type": "code",
   "execution_count": 40,
   "metadata": {},
   "outputs": [],
   "source": [
    "for vez2021 in range (53):\n",
    "    driver.execute_script(\"window.scrollTo(0, document.body.scrollHeight);\")\n",
    "    time.sleep(5)\n",
    "\n",
    "    new_height2021 = driver.execute_script(\"return document.body.scrollHeight\")\n",
    "\n",
    "    if new_height2021 == last_height2021 :\n",
    "        break   \n",
    "    last_height2021 = new_height2021"
   ]
  },
  {
   "cell_type": "code",
   "execution_count": 41,
   "metadata": {},
   "outputs": [],
   "source": [
    "soup2021 = BeautifulSoup(driver.page_source, 'html.parser')"
   ]
  },
  {
   "cell_type": "code",
   "execution_count": 42,
   "metadata": {},
   "outputs": [],
   "source": [
    "tabela2021 = soup2021.find('div', {'class': {'col-lg-11 col-md-11 col-sm-12'}})"
   ]
  },
  {
   "cell_type": "code",
   "execution_count": 43,
   "metadata": {},
   "outputs": [],
   "source": [
    "titulos2021 = tabela2021.find_all('strong', {})\n",
    "conteudos2021 = tabela2021.find_all('p')[0:2200:2]\n",
    "datasPublicacao2021 = tabela2021.find_all('p', {'class': 'data-hora'})"
   ]
  },
  {
   "cell_type": "code",
   "execution_count": 44,
   "metadata": {},
   "outputs": [],
   "source": [
    "lista_titulos2021 = []\n",
    "lista_conteudos2021 = []\n",
    "lista_datasPublicacao2021 = []\n",
    "\n",
    "for titulo2021 in titulos2021:\n",
    "  lista_titulos2021.append(titulo2021.get_text().strip())\n",
    "\n",
    "for conteudo2021 in conteudos2021:\n",
    "  lista_conteudos2021.append(conteudo2021.get_text().strip())\n",
    "\n",
    "for dataPublicacao2021 in datasPublicacao2021:\n",
    "  lista_datasPublicacao2021.append(dataPublicacao2021.get_text().strip())\n",
    "\n",
    "df_licenciamento2021 = pd.DataFrame([lista_titulos2021, lista_conteudos2021, lista_datasPublicacao2021]).T"
   ]
  },
  {
   "cell_type": "code",
   "execution_count": 45,
   "metadata": {},
   "outputs": [],
   "source": [
    "driver.back()"
   ]
  },
  {
   "cell_type": "code",
   "execution_count": 46,
   "metadata": {},
   "outputs": [],
   "source": [
    "driver.find_element(By.XPATH,'//*[@id=\"column-2\"]/div[1]/ul[1]/li[6]/a').click()\n",
    "time.sleep(5)\n",
    "#clica em \"2020\""
   ]
  },
  {
   "cell_type": "code",
   "execution_count": 47,
   "metadata": {},
   "outputs": [],
   "source": [
    "last_height2020 = driver.execute_script(\"return document.body.scrollHeight\")"
   ]
  },
  {
   "cell_type": "code",
   "execution_count": 48,
   "metadata": {},
   "outputs": [],
   "source": [
    "for vez2020 in range (26):\n",
    "    driver.execute_script(\"window.scrollTo(0, document.body.scrollHeight);\")\n",
    "    time.sleep(5)\n",
    "\n",
    "    new_height2020 = driver.execute_script(\"return document.body.scrollHeight\")\n",
    "\n",
    "    if new_height2020 == last_height2020 :\n",
    "        break   \n",
    "    last_height2020 = new_height2020"
   ]
  },
  {
   "cell_type": "code",
   "execution_count": 49,
   "metadata": {},
   "outputs": [],
   "source": [
    "soup2020 = BeautifulSoup(driver.page_source, 'html.parser')"
   ]
  },
  {
   "cell_type": "code",
   "execution_count": 50,
   "metadata": {},
   "outputs": [],
   "source": [
    "tabela2020 = soup2020.find('div', {'class': {'col-lg-11 col-md-11 col-sm-12'}})"
   ]
  },
  {
   "cell_type": "code",
   "execution_count": 51,
   "metadata": {},
   "outputs": [],
   "source": [
    "titulos2020 = tabela2020.find_all('strong', {})\n",
    "conteudos2020 = tabela2020.find_all('p')[0:1100:2]\n",
    "datasPublicacao2020 = tabela2020.find_all('p', {'class': 'data-hora'})"
   ]
  },
  {
   "cell_type": "code",
   "execution_count": 52,
   "metadata": {},
   "outputs": [],
   "source": [
    "lista_titulos2020 = []\n",
    "lista_conteudos2020 = []\n",
    "lista_datasPublicacao2020 = []\n",
    "\n",
    "for titulo2020 in titulos2020:\n",
    "  lista_titulos2020.append(titulo2020.get_text().strip())\n",
    "\n",
    "for conteudo2020 in conteudos2020:\n",
    "  lista_conteudos2020.append(conteudo2020.get_text().strip())\n",
    "\n",
    "for dataPublicacao2020 in datasPublicacao2020:\n",
    "  lista_datasPublicacao2020.append(dataPublicacao2020.get_text().strip())\n",
    "\n",
    "df_licenciamento2020 = pd.DataFrame([lista_titulos2020, lista_conteudos2020, lista_datasPublicacao2020]).T"
   ]
  },
  {
   "cell_type": "code",
   "execution_count": 53,
   "metadata": {},
   "outputs": [],
   "source": [
    "driver.back()"
   ]
  },
  {
   "cell_type": "code",
   "execution_count": 54,
   "metadata": {},
   "outputs": [],
   "source": [
    "driver.find_element(By.XPATH,'//*[@id=\"column-2\"]/div[1]/ul[1]/li[7]/a').click()\n",
    "time.sleep(5)\n",
    "#clica em \"2019\""
   ]
  },
  {
   "cell_type": "code",
   "execution_count": 55,
   "metadata": {},
   "outputs": [],
   "source": [
    "last_height2019 = driver.execute_script(\"return document.body.scrollHeight\")"
   ]
  },
  {
   "cell_type": "code",
   "execution_count": 56,
   "metadata": {},
   "outputs": [],
   "source": [
    "for vez2019 in range (3):\n",
    "    driver.execute_script(\"window.scrollTo(0, document.body.scrollHeight);\")\n",
    "    time.sleep(5)\n",
    "\n",
    "    new_height2019 = driver.execute_script(\"return document.body.scrollHeight\")\n",
    "\n",
    "    if new_height2019 == last_height2019 :\n",
    "        break   \n",
    "    last_height2019 = new_height2019"
   ]
  },
  {
   "cell_type": "code",
   "execution_count": 57,
   "metadata": {},
   "outputs": [],
   "source": [
    "soup2019 = BeautifulSoup(driver.page_source, 'html.parser')"
   ]
  },
  {
   "cell_type": "code",
   "execution_count": 58,
   "metadata": {},
   "outputs": [],
   "source": [
    "tabela2019 = soup2019.find('div', {'class': {'col-lg-11 col-md-11 col-sm-12'}})"
   ]
  },
  {
   "cell_type": "code",
   "execution_count": 59,
   "metadata": {},
   "outputs": [],
   "source": [
    "titulos2019 = tabela2019.find_all('strong', {})\n",
    "conteudos2019 = tabela2019.find_all('p')[0:150:2]\n",
    "datasPublicacao2019 = tabela2019.find_all('p', {'class': 'data-hora'})"
   ]
  },
  {
   "cell_type": "code",
   "execution_count": 60,
   "metadata": {},
   "outputs": [],
   "source": [
    "lista_titulos2019 = []\n",
    "lista_conteudos2019 = []\n",
    "lista_datasPublicacao2019 = []\n",
    "\n",
    "for titulo2019 in titulos2019:\n",
    "  lista_titulos2019.append(titulo2019.get_text().strip())\n",
    "\n",
    "for conteudo2019 in conteudos2019:\n",
    "  lista_conteudos2019.append(conteudo2019.get_text().strip())\n",
    "\n",
    "for dataPublicacao2019 in datasPublicacao2019:\n",
    "  lista_datasPublicacao2019.append(dataPublicacao2019.get_text().strip())\n",
    "\n",
    "df_licenciamento2019 = pd.DataFrame([lista_titulos2019, lista_conteudos2019, lista_datasPublicacao2019]).T"
   ]
  },
  {
   "cell_type": "code",
   "execution_count": 61,
   "metadata": {},
   "outputs": [],
   "source": [
    "driver.back()"
   ]
  },
  {
   "cell_type": "code",
   "execution_count": 62,
   "metadata": {},
   "outputs": [],
   "source": [
    "driver.find_element(By.XPATH,'//*[@id=\"column-2\"]/div[1]/ul[1]/li[8]/a').click()\n",
    "time.sleep(5)\n",
    "#clica em \"2018\""
   ]
  },
  {
   "cell_type": "code",
   "execution_count": 63,
   "metadata": {},
   "outputs": [],
   "source": [
    "last_height2018 = driver.execute_script(\"return document.body.scrollHeight\")"
   ]
  },
  {
   "cell_type": "code",
   "execution_count": 64,
   "metadata": {},
   "outputs": [],
   "source": [
    "for vez2018 in range (3):\n",
    "    driver.execute_script(\"window.scrollTo(0, document.body.scrollHeight);\")\n",
    "    time.sleep(5)\n",
    "\n",
    "    new_height2018 = driver.execute_script(\"return document.body.scrollHeight\")\n",
    "\n",
    "    if new_height2018 == last_height2018 :\n",
    "        break   \n",
    "    last_height2018 = new_height2018"
   ]
  },
  {
   "cell_type": "code",
   "execution_count": 65,
   "metadata": {},
   "outputs": [],
   "source": [
    "soup2018 = BeautifulSoup(driver.page_source, 'html.parser')"
   ]
  },
  {
   "cell_type": "code",
   "execution_count": 66,
   "metadata": {},
   "outputs": [],
   "source": [
    "tabela2018 = soup2018.find('div', {'class': {'col-lg-11 col-md-11 col-sm-12'}})"
   ]
  },
  {
   "cell_type": "code",
   "execution_count": 67,
   "metadata": {},
   "outputs": [],
   "source": [
    "titulos2018 = tabela2018.find_all('strong', {})\n",
    "conteudos2018 = tabela2018.find_all('p')[0:150:2]\n",
    "datasPublicacao2018 = tabela2018.find_all('p', {'class': 'data-hora'})"
   ]
  },
  {
   "cell_type": "code",
   "execution_count": 68,
   "metadata": {},
   "outputs": [],
   "source": [
    "lista_titulos2018 = []\n",
    "lista_conteudos2018 = []\n",
    "lista_datasPublicacao2018 = []\n",
    "\n",
    "for titulo2018 in titulos2018:\n",
    "  lista_titulos2018.append(titulo2018.get_text().strip())\n",
    "\n",
    "for conteudo2018 in conteudos2018:\n",
    "  lista_conteudos2018.append(conteudo2018.get_text().strip())\n",
    "\n",
    "for dataPublicacao2018 in datasPublicacao2018:\n",
    "  lista_datasPublicacao2018.append(dataPublicacao2018.get_text().strip())\n",
    "\n",
    "df_licenciamento2018 = pd.DataFrame([lista_titulos2018, lista_conteudos2018, lista_datasPublicacao2018]).T"
   ]
  },
  {
   "cell_type": "code",
   "execution_count": 69,
   "metadata": {},
   "outputs": [],
   "source": [
    "driver.back()"
   ]
  },
  {
   "cell_type": "code",
   "execution_count": 70,
   "metadata": {},
   "outputs": [],
   "source": [
    "driver.find_element(By.XPATH,'//*[@id=\"column-2\"]/div[1]/ul[1]/li[9]/a').click()\n",
    "time.sleep(5)\n",
    "#clica em \"2017\""
   ]
  },
  {
   "cell_type": "code",
   "execution_count": 71,
   "metadata": {},
   "outputs": [],
   "source": [
    "last_height2017 = driver.execute_script(\"return document.body.scrollHeight\")"
   ]
  },
  {
   "cell_type": "code",
   "execution_count": 72,
   "metadata": {},
   "outputs": [],
   "source": [
    "for vez2017 in range (2):\n",
    "    driver.execute_script(\"window.scrollTo(0, document.body.scrollHeight);\")\n",
    "    time.sleep(5)\n",
    "\n",
    "    new_height2017 = driver.execute_script(\"return document.body.scrollHeight\")\n",
    "\n",
    "    if new_height2017 == last_height2017 :\n",
    "        break   \n",
    "    last_height2017 = new_height2017"
   ]
  },
  {
   "cell_type": "code",
   "execution_count": 73,
   "metadata": {},
   "outputs": [],
   "source": [
    "soup2017 = BeautifulSoup(driver.page_source, 'html.parser')"
   ]
  },
  {
   "cell_type": "code",
   "execution_count": 74,
   "metadata": {},
   "outputs": [],
   "source": [
    "tabela2017 = soup2017.find('div', {'class': {'col-lg-11 col-md-11 col-sm-12'}})"
   ]
  },
  {
   "cell_type": "code",
   "execution_count": 75,
   "metadata": {},
   "outputs": [],
   "source": [
    "titulos2017 = tabela2017.find_all('strong', {})\n",
    "conteudos2017 = tabela2017.find_all('p')[0:100:2]\n",
    "datasPublicacao2017 = tabela2017.find_all('p', {'class': 'data-hora'})"
   ]
  },
  {
   "cell_type": "code",
   "execution_count": 76,
   "metadata": {},
   "outputs": [],
   "source": [
    "lista_titulos2017 = []\n",
    "lista_conteudos2017 = []\n",
    "lista_datasPublicacao2017 = []\n",
    "\n",
    "for titulo2017 in titulos2017:\n",
    "  lista_titulos2017.append(titulo2017.get_text().strip())\n",
    "\n",
    "for conteudo2017 in conteudos2017:\n",
    "  lista_conteudos2017.append(conteudo2017.get_text().strip())\n",
    "\n",
    "for dataPublicacao2017 in datasPublicacao2017:\n",
    "  lista_datasPublicacao2017.append(dataPublicacao2017.get_text().strip())\n",
    "\n",
    "df_licenciamento2017 = pd.DataFrame([lista_titulos2017, lista_conteudos2017, lista_datasPublicacao2017]).T"
   ]
  },
  {
   "cell_type": "code",
   "execution_count": 77,
   "metadata": {},
   "outputs": [],
   "source": [
    "driver.back()"
   ]
  },
  {
   "cell_type": "code",
   "execution_count": 78,
   "metadata": {},
   "outputs": [],
   "source": [
    "driver.find_element(By.XPATH,'//*[@id=\"column-2\"]/div[1]/ul[1]/li[10]/a').click()\n",
    "time.sleep(5)\n",
    "#clica em \"2016\""
   ]
  },
  {
   "cell_type": "code",
   "execution_count": 79,
   "metadata": {},
   "outputs": [],
   "source": [
    "soup2016 = BeautifulSoup(driver.page_source, 'html.parser')"
   ]
  },
  {
   "cell_type": "code",
   "execution_count": 80,
   "metadata": {},
   "outputs": [],
   "source": [
    "tabela2016 = soup2016.find('div', {'class': {'col-lg-11 col-md-11 col-sm-12'}})"
   ]
  },
  {
   "cell_type": "code",
   "execution_count": 81,
   "metadata": {},
   "outputs": [],
   "source": [
    "titulos2016 = tabela2016.find_all('strong', {})\n",
    "conteudos2016 = tabela2016.find_all('p')[0:16:2]\n",
    "datasPublicacao2016 = tabela2016.find_all('p', {'class': 'data-hora'})"
   ]
  },
  {
   "cell_type": "code",
   "execution_count": 82,
   "metadata": {},
   "outputs": [],
   "source": [
    "lista_titulos2016 = []\n",
    "lista_conteudos2016 = []\n",
    "lista_datasPublicacao2016 = []\n",
    "\n",
    "for titulo2016 in titulos2016:\n",
    "  lista_titulos2016.append(titulo2016.get_text().strip())\n",
    "\n",
    "for conteudo2016 in conteudos2016:\n",
    "  lista_conteudos2016.append(conteudo2016.get_text().strip())\n",
    "\n",
    "for dataPublicacao2016 in datasPublicacao2016:\n",
    "  lista_datasPublicacao2016.append(dataPublicacao2016.get_text().strip())\n",
    "\n",
    "df_licenciamento2016 = pd.DataFrame([lista_titulos2016, lista_conteudos2016, lista_datasPublicacao2016]).T"
   ]
  },
  {
   "cell_type": "code",
   "execution_count": 83,
   "metadata": {},
   "outputs": [],
   "source": [
    "driver.back()"
   ]
  },
  {
   "cell_type": "code",
   "execution_count": 84,
   "metadata": {},
   "outputs": [],
   "source": [
    "driver.find_element(By.XPATH,'//*[@id=\"column-2\"]/div[1]/ul[2]/li[1]/a').click()\n",
    "time.sleep(5)\n",
    "#clica em \"2015\""
   ]
  },
  {
   "cell_type": "code",
   "execution_count": 85,
   "metadata": {},
   "outputs": [],
   "source": [
    "soup2015 = BeautifulSoup(driver.page_source, 'html.parser')"
   ]
  },
  {
   "cell_type": "code",
   "execution_count": 86,
   "metadata": {},
   "outputs": [],
   "source": [
    "tabela2015 = soup2015.find('div', {'class': {'col-lg-11 col-md-11 col-sm-12'}})"
   ]
  },
  {
   "cell_type": "code",
   "execution_count": 87,
   "metadata": {},
   "outputs": [],
   "source": [
    "titulos2015 = tabela2015.find_all('strong', {})\n",
    "conteudos2015 = tabela2015.find_all('p')[0:10:2]\n",
    "datasPublicacao2015 = tabela2015.find_all('p', {'class': 'data-hora'})"
   ]
  },
  {
   "cell_type": "code",
   "execution_count": 88,
   "metadata": {},
   "outputs": [],
   "source": [
    "lista_titulos2015 = []\n",
    "lista_conteudos2015 = []\n",
    "lista_datasPublicacao2015 = []\n",
    "\n",
    "for titulo2015 in titulos2015:\n",
    "  lista_titulos2015.append(titulo2015.get_text().strip())\n",
    "\n",
    "for conteudo2015 in conteudos2015:\n",
    "  lista_conteudos2015.append(conteudo2015.get_text().strip())\n",
    "\n",
    "for dataPublicacao2015 in datasPublicacao2015:\n",
    "  lista_datasPublicacao2015.append(dataPublicacao2015.get_text().strip())\n",
    "\n",
    "df_licenciamento2015 = pd.DataFrame([lista_titulos2015, lista_conteudos2015, lista_datasPublicacao2015]).T"
   ]
  },
  {
   "cell_type": "code",
   "execution_count": 89,
   "metadata": {},
   "outputs": [],
   "source": [
    "driver.back()"
   ]
  },
  {
   "cell_type": "code",
   "execution_count": 90,
   "metadata": {},
   "outputs": [],
   "source": [
    "driver.find_element(By.XPATH,'//*[@id=\"column-2\"]/div[1]/ul[2]/li[2]/a').click()\n",
    "time.sleep(5)\n",
    "#clica em \"2014\""
   ]
  },
  {
   "cell_type": "code",
   "execution_count": 91,
   "metadata": {},
   "outputs": [],
   "source": [
    "soup2014 = BeautifulSoup(driver.page_source, 'html.parser')"
   ]
  },
  {
   "cell_type": "code",
   "execution_count": 92,
   "metadata": {},
   "outputs": [],
   "source": [
    "tabela2014 = soup2014.find('div', {'class': {'col-lg-11 col-md-11 col-sm-12'}})"
   ]
  },
  {
   "cell_type": "code",
   "execution_count": 93,
   "metadata": {},
   "outputs": [],
   "source": [
    "titulos2014 = tabela2014.find_all('strong', {})\n",
    "conteudos2014 = tabela2014.find_all('p')[0:12:2]\n",
    "datasPublicacao2014 = tabela2014.find_all('p', {'class': 'data-hora'})"
   ]
  },
  {
   "cell_type": "code",
   "execution_count": 94,
   "metadata": {},
   "outputs": [],
   "source": [
    "lista_titulos2014 = []\n",
    "lista_conteudos2014 = []\n",
    "lista_datasPublicacao2014 = []\n",
    "\n",
    "for titulo2014 in titulos2014:\n",
    "  lista_titulos2014.append(titulo2014.get_text().strip())\n",
    "\n",
    "for conteudo2014 in conteudos2014:\n",
    "  lista_conteudos2014.append(conteudo2014.get_text().strip())\n",
    "\n",
    "for dataPublicacao2014 in datasPublicacao2014:\n",
    "  lista_datasPublicacao2014.append(dataPublicacao2014.get_text().strip())\n",
    "\n",
    "df_licenciamento2014 = pd.DataFrame([lista_titulos2014, lista_conteudos2014, lista_datasPublicacao2014]).T"
   ]
  },
  {
   "cell_type": "code",
   "execution_count": 95,
   "metadata": {},
   "outputs": [],
   "source": [
    "driver.back()"
   ]
  },
  {
   "cell_type": "code",
   "execution_count": 96,
   "metadata": {},
   "outputs": [],
   "source": [
    "driver.find_element(By.XPATH,'//*[@id=\"column-2\"]/div[1]/ul[2]/li[3]/a').click()\n",
    "time.sleep(5)\n",
    "#clica em \"2013\""
   ]
  },
  {
   "cell_type": "code",
   "execution_count": 97,
   "metadata": {},
   "outputs": [],
   "source": [
    "soup2013 = BeautifulSoup(driver.page_source, 'html.parser')"
   ]
  },
  {
   "cell_type": "code",
   "execution_count": 98,
   "metadata": {},
   "outputs": [],
   "source": [
    "tabela2013 = soup2013.find('div', {'class': {'col-lg-11 col-md-11 col-sm-12'}})"
   ]
  },
  {
   "cell_type": "code",
   "execution_count": 99,
   "metadata": {},
   "outputs": [],
   "source": [
    "titulos2013 = tabela2013.find_all('strong', {})\n",
    "conteudos2013 = tabela2013.find_all('p')[0:12:2]\n",
    "datasPublicacao2013 = tabela2013.find_all('p', {'class': 'data-hora'})"
   ]
  },
  {
   "cell_type": "code",
   "execution_count": 100,
   "metadata": {},
   "outputs": [],
   "source": [
    "lista_titulos2013 = []\n",
    "lista_conteudos2013 = []\n",
    "lista_datasPublicacao2013 = []\n",
    "\n",
    "for titulo2013 in titulos2013:\n",
    "  lista_titulos2013.append(titulo2013.get_text().strip())\n",
    "\n",
    "for conteudo2013 in conteudos2013:\n",
    "  lista_conteudos2013.append(conteudo2013.get_text().strip())\n",
    "\n",
    "for dataPublicacao2013 in datasPublicacao2013:\n",
    "  lista_datasPublicacao2013.append(dataPublicacao2013.get_text().strip())\n",
    "\n",
    "df_licenciamento2013 = pd.DataFrame([lista_titulos2013, lista_conteudos2013, lista_datasPublicacao2013]).T"
   ]
  },
  {
   "cell_type": "code",
   "execution_count": 101,
   "metadata": {},
   "outputs": [],
   "source": [
    "driver.back()"
   ]
  },
  {
   "cell_type": "code",
   "execution_count": 102,
   "metadata": {},
   "outputs": [],
   "source": [
    "driver.find_element(By.XPATH,'//*[@id=\"column-2\"]/div[1]/ul[2]/li[4]/a').click()\n",
    "time.sleep(5)\n",
    "#clica em \"2009\""
   ]
  },
  {
   "cell_type": "code",
   "execution_count": 103,
   "metadata": {},
   "outputs": [],
   "source": [
    "soup2009 = BeautifulSoup(driver.page_source, 'html.parser')"
   ]
  },
  {
   "cell_type": "code",
   "execution_count": 104,
   "metadata": {},
   "outputs": [],
   "source": [
    "tabela2009 = soup2009.find('div', {'class': {'col-lg-11 col-md-11 col-sm-12'}})"
   ]
  },
  {
   "cell_type": "code",
   "execution_count": 105,
   "metadata": {},
   "outputs": [],
   "source": [
    "titulos2009 = tabela2009.find_all('strong', {})\n",
    "conteudos2009 = tabela2009.find_all('p')[0:10:2]\n",
    "datasPublicacao2009 = tabela2009.find_all('p', {'class': 'data-hora'})"
   ]
  },
  {
   "cell_type": "code",
   "execution_count": 106,
   "metadata": {},
   "outputs": [],
   "source": [
    "lista_titulos2009 = []\n",
    "lista_conteudos2009 = []\n",
    "lista_datasPublicacao2009 = []\n",
    "\n",
    "for titulo2009 in titulos2009:\n",
    "  lista_titulos2009.append(titulo2009.get_text().strip())\n",
    "\n",
    "for conteudo2009 in conteudos2009:\n",
    "  lista_conteudos2009.append(conteudo2009.get_text().strip())\n",
    "\n",
    "for dataPublicacao2009 in datasPublicacao2009:\n",
    "  lista_datasPublicacao2009.append(dataPublicacao2009.get_text().strip())\n",
    "\n",
    "df_licenciamento2009= pd.DataFrame([lista_titulos2009, lista_conteudos2009, lista_datasPublicacao2009]).T"
   ]
  },
  {
   "cell_type": "code",
   "execution_count": 107,
   "metadata": {},
   "outputs": [],
   "source": [
    "driver.back()"
   ]
  },
  {
   "cell_type": "code",
   "execution_count": 108,
   "metadata": {},
   "outputs": [],
   "source": [
    "driver.find_element(By.XPATH,'//*[@id=\"column-2\"]/div[1]/ul[2]/li[5]/a').click()\n",
    "time.sleep(5)\n",
    "#clica em \"2007\""
   ]
  },
  {
   "cell_type": "code",
   "execution_count": 109,
   "metadata": {},
   "outputs": [],
   "source": [
    "soup2007 = BeautifulSoup(driver.page_source, 'html.parser')"
   ]
  },
  {
   "cell_type": "code",
   "execution_count": 110,
   "metadata": {},
   "outputs": [],
   "source": [
    "tabela2007 = soup2007.find('div', {'class': {'col-lg-11 col-md-11 col-sm-12'}})"
   ]
  },
  {
   "cell_type": "code",
   "execution_count": 111,
   "metadata": {},
   "outputs": [],
   "source": [
    "titulos2007 = tabela2007.find_all('strong', {})\n",
    "conteudos2007 = tabela2007.find_all('p')[0:4:2]\n",
    "datasPublicacao2007 = tabela2007.find_all('p', {'class': 'data-hora'})"
   ]
  },
  {
   "cell_type": "code",
   "execution_count": 112,
   "metadata": {},
   "outputs": [],
   "source": [
    "lista_titulos2007 = []\n",
    "lista_conteudos2007 = []\n",
    "lista_datasPublicacao2007 = []\n",
    "\n",
    "for titulo2007 in titulos2007:\n",
    "  lista_titulos2007.append(titulo2007.get_text().strip())\n",
    "\n",
    "for conteudo2007 in conteudos2007:\n",
    "  lista_conteudos2007.append(conteudo2007.get_text().strip())\n",
    "\n",
    "for dataPublicacao2007 in datasPublicacao2007:\n",
    "  lista_datasPublicacao2007.append(dataPublicacao2007.get_text().strip())\n",
    "\n",
    "df_licenciamento2007= pd.DataFrame([lista_titulos2007, lista_conteudos2007, lista_datasPublicacao2007]).T"
   ]
  },
  {
   "cell_type": "code",
   "execution_count": 113,
   "metadata": {},
   "outputs": [],
   "source": [
    "driver.back()"
   ]
  },
  {
   "cell_type": "code",
   "execution_count": 114,
   "metadata": {},
   "outputs": [],
   "source": [
    "driver.find_element(By.XPATH,'//*[@id=\"column-2\"]/div[1]/ul[2]/li[6]/a').click()\n",
    "time.sleep(5)\n",
    "#clica em \"2006\""
   ]
  },
  {
   "cell_type": "code",
   "execution_count": 115,
   "metadata": {},
   "outputs": [],
   "source": [
    "soup2006 = BeautifulSoup(driver.page_source, 'html.parser')"
   ]
  },
  {
   "cell_type": "code",
   "execution_count": 116,
   "metadata": {},
   "outputs": [],
   "source": [
    "tabela2006 = soup2006.find('div', {'class': {'col-lg-11 col-md-11 col-sm-12'}})"
   ]
  },
  {
   "cell_type": "code",
   "execution_count": 117,
   "metadata": {},
   "outputs": [],
   "source": [
    "titulos2006 = tabela2006.find_all('strong', {})\n",
    "conteudos2006 = tabela2006.find_all('p')[0:4:2]\n",
    "datasPublicacao2006 = tabela2006.find_all('p', {'class': 'data-hora'})"
   ]
  },
  {
   "cell_type": "code",
   "execution_count": 118,
   "metadata": {},
   "outputs": [],
   "source": [
    "lista_titulos2006 = []\n",
    "lista_conteudos2006 = []\n",
    "lista_datasPublicacao2006 = []\n",
    "\n",
    "for titulo2006 in titulos2006:\n",
    "  lista_titulos2006.append(titulo2006.get_text().strip())\n",
    "\n",
    "for conteudo2006 in conteudos2006:\n",
    "  lista_conteudos2006.append(conteudo2006.get_text().strip())\n",
    "\n",
    "for dataPublicacao2006 in datasPublicacao2006:\n",
    "  lista_datasPublicacao2006.append(dataPublicacao2006.get_text().strip())\n",
    "\n",
    "df_licenciamento2006= pd.DataFrame([lista_titulos2006, lista_conteudos2006, lista_datasPublicacao2006]).T"
   ]
  },
  {
   "cell_type": "code",
   "execution_count": 119,
   "metadata": {},
   "outputs": [],
   "source": [
    "driver.back()"
   ]
  },
  {
   "cell_type": "code",
   "execution_count": 120,
   "metadata": {},
   "outputs": [],
   "source": [
    "driver.find_element(By.XPATH,'//*[@id=\"column-2\"]/div[1]/ul[2]/li[7]/a').click()\n",
    "time.sleep(5)\n",
    "#clica em \"2003\""
   ]
  },
  {
   "cell_type": "code",
   "execution_count": 121,
   "metadata": {},
   "outputs": [],
   "source": [
    "soup2003 = BeautifulSoup(driver.page_source, 'html.parser')"
   ]
  },
  {
   "cell_type": "code",
   "execution_count": 122,
   "metadata": {},
   "outputs": [],
   "source": [
    "tabela2003 = soup2003.find('div', {'class': {'col-lg-11 col-md-11 col-sm-12'}})"
   ]
  },
  {
   "cell_type": "code",
   "execution_count": 123,
   "metadata": {},
   "outputs": [],
   "source": [
    "titulos2003 = tabela2003.find_all('strong', {})\n",
    "conteudos2003 = tabela2003.find_all('p')[0:4:2]\n",
    "datasPublicacao2003 = tabela2003.find_all('p', {'class': 'data-hora'})"
   ]
  },
  {
   "cell_type": "code",
   "execution_count": 124,
   "metadata": {},
   "outputs": [],
   "source": [
    "lista_titulos2003 = []\n",
    "lista_conteudos2003 = []\n",
    "lista_datasPublicacao2003 = []\n",
    "\n",
    "for titulo2003 in titulos2003:\n",
    "  lista_titulos2003.append(titulo2003.get_text().strip())\n",
    "\n",
    "for conteudo2003 in conteudos2003:\n",
    "  lista_conteudos2003.append(conteudo2003.get_text().strip())\n",
    "\n",
    "for dataPublicacao2003 in datasPublicacao2003:\n",
    "  lista_datasPublicacao2003.append(dataPublicacao2003.get_text().strip())\n",
    "\n",
    "df_licenciamento2003= pd.DataFrame([lista_titulos2003, lista_conteudos2003, lista_datasPublicacao2003]).T"
   ]
  },
  {
   "cell_type": "code",
   "execution_count": 125,
   "metadata": {},
   "outputs": [],
   "source": [
    "driver.back()"
   ]
  },
  {
   "cell_type": "code",
   "execution_count": 126,
   "metadata": {},
   "outputs": [],
   "source": [
    "driver.find_element(By.XPATH,'//*[@id=\"column-2\"]/div[1]/ul[2]/li[8]/a').click()\n",
    "time.sleep(5)\n",
    "#clica em \"1986\""
   ]
  },
  {
   "cell_type": "code",
   "execution_count": 127,
   "metadata": {},
   "outputs": [],
   "source": [
    "soup1986 = BeautifulSoup(driver.page_source, 'html.parser')"
   ]
  },
  {
   "cell_type": "code",
   "execution_count": 128,
   "metadata": {},
   "outputs": [],
   "source": [
    "tabela1986 = soup1986.find('div', {'class': {'col-lg-11 col-md-11 col-sm-12'}})"
   ]
  },
  {
   "cell_type": "code",
   "execution_count": 129,
   "metadata": {},
   "outputs": [],
   "source": [
    "titulos1986 = tabela1986.find_all('strong', {})\n",
    "conteudos1986 = tabela1986.find_all('p')[0:4:2]\n",
    "datasPublicacao1986 = tabela1986.find_all('p', {'class': 'data-hora'})"
   ]
  },
  {
   "cell_type": "code",
   "execution_count": 130,
   "metadata": {},
   "outputs": [],
   "source": [
    "lista_titulos1986 = []\n",
    "lista_conteudos1986 = []\n",
    "lista_datasPublicacao1986 = []\n",
    "\n",
    "for titulo1986 in titulos1986:\n",
    "  lista_titulos1986.append(titulo1986.get_text().strip())\n",
    "\n",
    "for conteudo1986 in conteudos1986:\n",
    "  lista_conteudos1986.append(conteudo1986.get_text().strip())\n",
    "\n",
    "for dataPublicacao1986 in datasPublicacao1986:\n",
    "  lista_datasPublicacao1986.append(dataPublicacao1986.get_text().strip())\n",
    "\n",
    "df_licenciamento1986= pd.DataFrame([lista_titulos1986, lista_conteudos1986, lista_datasPublicacao1986]).T"
   ]
  },
  {
   "cell_type": "code",
   "execution_count": 131,
   "metadata": {},
   "outputs": [],
   "source": [
    "driver.back()"
   ]
  },
  {
   "cell_type": "code",
   "execution_count": 132,
   "metadata": {},
   "outputs": [],
   "source": [
    "driver.find_element(By.XPATH,'//*[@id=\"column-2\"]/div[1]/ul[2]/li[9]/a').click()\n",
    "time.sleep(5)\n",
    "#clica em \"1984\""
   ]
  },
  {
   "cell_type": "code",
   "execution_count": 133,
   "metadata": {},
   "outputs": [],
   "source": [
    "soup1984 = BeautifulSoup(driver.page_source, 'html.parser')"
   ]
  },
  {
   "cell_type": "code",
   "execution_count": 134,
   "metadata": {},
   "outputs": [],
   "source": [
    "tabela1984 = soup1984.find('div', {'class': {'col-lg-11 col-md-11 col-sm-12'}})"
   ]
  },
  {
   "cell_type": "code",
   "execution_count": 135,
   "metadata": {},
   "outputs": [],
   "source": [
    "titulos1984 = tabela1984.find_all('strong', {})\n",
    "conteudos1984 = tabela1984.find_all('p')[0:4:2]\n",
    "datasPublicacao1984 = tabela1984.find_all('p', {'class': 'data-hora'})"
   ]
  },
  {
   "cell_type": "code",
   "execution_count": 136,
   "metadata": {},
   "outputs": [],
   "source": [
    "lista_titulos1984 = []\n",
    "lista_conteudos1984 = []\n",
    "lista_datasPublicacao1984 = []\n",
    "\n",
    "for titulo1984 in titulos1984:\n",
    "  lista_titulos1984.append(titulo1984.get_text().strip())\n",
    "\n",
    "for conteudo1984 in conteudos1984:\n",
    "  lista_conteudos1984.append(conteudo1984.get_text().strip())\n",
    "\n",
    "for dataPublicacao1984 in datasPublicacao1984:\n",
    "  lista_datasPublicacao1984.append(dataPublicacao1984.get_text().strip())\n",
    "\n",
    "df_licenciamento1984= pd.DataFrame([lista_titulos1984, lista_conteudos1984, lista_datasPublicacao1984]).T"
   ]
  },
  {
   "cell_type": "code",
   "execution_count": 137,
   "metadata": {},
   "outputs": [],
   "source": [
    "licenciamento = pd.concat([df_licenciamento1984, df_licenciamento1986, df_licenciamento2003, df_licenciamento2006, df_licenciamento2007, \n",
    "                           df_licenciamento2009, df_licenciamento2013, df_licenciamento2014, df_licenciamento2015, df_licenciamento2016, \n",
    "                           df_licenciamento2017, df_licenciamento2018, df_licenciamento2019, df_licenciamento2020, df_licenciamento2021, \n",
    "                           df_licenciamento2022, df_licenciamento2023, df_licenciamento2024, df_licenciamento2027])"
   ]
  },
  {
   "cell_type": "code",
   "execution_count": 138,
   "metadata": {},
   "outputs": [
    {
     "data": {
      "text/html": [
       "<div>\n",
       "<style scoped>\n",
       "    .dataframe tbody tr th:only-of-type {\n",
       "        vertical-align: middle;\n",
       "    }\n",
       "\n",
       "    .dataframe tbody tr th {\n",
       "        vertical-align: top;\n",
       "    }\n",
       "\n",
       "    .dataframe thead th {\n",
       "        text-align: right;\n",
       "    }\n",
       "</style>\n",
       "<table border=\"1\" class=\"dataframe\">\n",
       "  <thead>\n",
       "    <tr style=\"text-align: right;\">\n",
       "      <th></th>\n",
       "      <th>0</th>\n",
       "      <th>1</th>\n",
       "      <th>2</th>\n",
       "    </tr>\n",
       "  </thead>\n",
       "  <tbody>\n",
       "    <tr>\n",
       "      <th>0</th>\n",
       "      <td>REGISTRO DE LICENÇA 696/1984</td>\n",
       "      <td>Dispõe sobre autorização de registro de licenç...</td>\n",
       "      <td>04/07/1984 | 10:00:10</td>\n",
       "    </tr>\n",
       "    <tr>\n",
       "      <th>0</th>\n",
       "      <td>DEPARTAMENTO NACIONAL DE PRODUÇÃO MINERAL</td>\n",
       "      <td>GERÊNCIA REGIONAL DE SÃO PAULO</td>\n",
       "      <td>25/06/1986 | 07:30:48</td>\n",
       "    </tr>\n",
       "    <tr>\n",
       "      <th>0</th>\n",
       "      <td>REGISTRO DE LICENÇA 2787/2003</td>\n",
       "      <td>Dispõe sobre registro de licença para extração...</td>\n",
       "      <td>05/06/2003 | 12:26:30</td>\n",
       "    </tr>\n",
       "    <tr>\n",
       "      <th>0</th>\n",
       "      <td>REGISTRO DE LICENÇA 2967/2008</td>\n",
       "      <td>Dispõe sobre registro de licença para extração...</td>\n",
       "      <td>31/08/2006 | 16:44:56</td>\n",
       "    </tr>\n",
       "    <tr>\n",
       "      <th>0</th>\n",
       "      <td>REGISTRO DE LICENÇA Nº 66/2007 - GERÊNCIA REGI...</td>\n",
       "      <td>Autoriza prorrogação do Registro de Licença nº...</td>\n",
       "      <td>10/06/2007 | 10:13:06</td>\n",
       "    </tr>\n",
       "    <tr>\n",
       "      <th>...</th>\n",
       "      <td>...</td>\n",
       "      <td>...</td>\n",
       "      <td>...</td>\n",
       "    </tr>\n",
       "    <tr>\n",
       "      <th>316</th>\n",
       "      <td>REGISTRO DE LICENÇA Nº 1035/2023</td>\n",
       "      <td>Autoriza o registro da(s) licença(s) de n.o(s)...</td>\n",
       "      <td>03/01/2024 | 08:44:58</td>\n",
       "    </tr>\n",
       "    <tr>\n",
       "      <th>317</th>\n",
       "      <td>REGISTRO DE LICENÇA Nº 1034/2023</td>\n",
       "      <td>Autoriza o registro da(s) licença(s) de n.o(s)...</td>\n",
       "      <td>03/01/2024 | 08:41:14</td>\n",
       "    </tr>\n",
       "    <tr>\n",
       "      <th>318</th>\n",
       "      <td>REGISTRO DE LICENÇA Nº 1025/2023</td>\n",
       "      <td>Autoriza o registro da Licença Municipal para ...</td>\n",
       "      <td>03/01/2024 | 08:52:41</td>\n",
       "    </tr>\n",
       "    <tr>\n",
       "      <th>319</th>\n",
       "      <td>REGISTRO DE LICENÇA - PRORROGAÇÃO Nº 25/2021</td>\n",
       "      <td>Autoriza a(s) prorrogação(ões) do(s) registro(...</td>\n",
       "      <td>03/01/2024 | 09:55:04</td>\n",
       "    </tr>\n",
       "    <tr>\n",
       "      <th>0</th>\n",
       "      <td>LICENCIAMENTO Nº 46/2017</td>\n",
       "      <td>Outorgar o Licenciamento, em nome de CERÂMICA ...</td>\n",
       "      <td>27/11/2027 | 16:45:31</td>\n",
       "    </tr>\n",
       "  </tbody>\n",
       "</table>\n",
       "<p>4254 rows × 3 columns</p>\n",
       "</div>"
      ],
      "text/plain": [
       "                                                     0  \\\n",
       "0                         REGISTRO DE LICENÇA 696/1984   \n",
       "0            DEPARTAMENTO NACIONAL DE PRODUÇÃO MINERAL   \n",
       "0                        REGISTRO DE LICENÇA 2787/2003   \n",
       "0                        REGISTRO DE LICENÇA 2967/2008   \n",
       "0    REGISTRO DE LICENÇA Nº 66/2007 - GERÊNCIA REGI...   \n",
       "..                                                 ...   \n",
       "316                   REGISTRO DE LICENÇA Nº 1035/2023   \n",
       "317                   REGISTRO DE LICENÇA Nº 1034/2023   \n",
       "318                   REGISTRO DE LICENÇA Nº 1025/2023   \n",
       "319       REGISTRO DE LICENÇA - PRORROGAÇÃO Nº 25/2021   \n",
       "0                             LICENCIAMENTO Nº 46/2017   \n",
       "\n",
       "                                                     1                      2  \n",
       "0    Dispõe sobre autorização de registro de licenç...  04/07/1984 | 10:00:10  \n",
       "0                       GERÊNCIA REGIONAL DE SÃO PAULO  25/06/1986 | 07:30:48  \n",
       "0    Dispõe sobre registro de licença para extração...  05/06/2003 | 12:26:30  \n",
       "0    Dispõe sobre registro de licença para extração...  31/08/2006 | 16:44:56  \n",
       "0    Autoriza prorrogação do Registro de Licença nº...  10/06/2007 | 10:13:06  \n",
       "..                                                 ...                    ...  \n",
       "316  Autoriza o registro da(s) licença(s) de n.o(s)...  03/01/2024 | 08:44:58  \n",
       "317  Autoriza o registro da(s) licença(s) de n.o(s)...  03/01/2024 | 08:41:14  \n",
       "318  Autoriza o registro da Licença Municipal para ...  03/01/2024 | 08:52:41  \n",
       "319  Autoriza a(s) prorrogação(ões) do(s) registro(...  03/01/2024 | 09:55:04  \n",
       "0    Outorgar o Licenciamento, em nome de CERÂMICA ...  27/11/2027 | 16:45:31  \n",
       "\n",
       "[4254 rows x 3 columns]"
      ]
     },
     "execution_count": 138,
     "metadata": {},
     "output_type": "execute_result"
    }
   ],
   "source": [
    "licenciamento"
   ]
  }
 ],
 "metadata": {
  "kernelspec": {
   "display_name": "Python 3",
   "language": "python",
   "name": "python3"
  },
  "language_info": {
   "codemirror_mode": {
    "name": "ipython",
    "version": 3
   },
   "file_extension": ".py",
   "mimetype": "text/x-python",
   "name": "python",
   "nbconvert_exporter": "python",
   "pygments_lexer": "ipython3",
   "version": "3.12.2"
  }
 },
 "nbformat": 4,
 "nbformat_minor": 2
}
