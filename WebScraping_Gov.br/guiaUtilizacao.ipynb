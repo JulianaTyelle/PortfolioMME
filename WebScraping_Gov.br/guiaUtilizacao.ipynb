{
 "cells": [
  {
   "cell_type": "code",
   "execution_count": 81,
   "metadata": {},
   "outputs": [
    {
     "name": "stdout",
     "output_type": "stream",
     "text": [
      "Requirement already satisfied: selenium in c:\\users\\juliana.pires\\appdata\\local\\programs\\python\\python312\\lib\\site-packages (4.19.0)\n",
      "Requirement already satisfied: urllib3<3,>=1.26 in c:\\users\\juliana.pires\\appdata\\local\\programs\\python\\python312\\lib\\site-packages (from urllib3[socks]<3,>=1.26->selenium) (2.2.1)\n",
      "Requirement already satisfied: trio~=0.17 in c:\\users\\juliana.pires\\appdata\\local\\programs\\python\\python312\\lib\\site-packages (from selenium) (0.25.0)\n",
      "Requirement already satisfied: trio-websocket~=0.9 in c:\\users\\juliana.pires\\appdata\\local\\programs\\python\\python312\\lib\\site-packages (from selenium) (0.11.1)\n",
      "Requirement already satisfied: certifi>=2021.10.8 in c:\\users\\juliana.pires\\appdata\\local\\programs\\python\\python312\\lib\\site-packages (from selenium) (2024.2.2)\n",
      "Requirement already satisfied: typing_extensions>=4.9.0 in c:\\users\\juliana.pires\\appdata\\local\\programs\\python\\python312\\lib\\site-packages (from selenium) (4.10.0)\n",
      "Requirement already satisfied: attrs>=23.2.0 in c:\\users\\juliana.pires\\appdata\\local\\programs\\python\\python312\\lib\\site-packages (from trio~=0.17->selenium) (23.2.0)\n",
      "Requirement already satisfied: sortedcontainers in c:\\users\\juliana.pires\\appdata\\local\\programs\\python\\python312\\lib\\site-packages (from trio~=0.17->selenium) (2.4.0)\n",
      "Requirement already satisfied: idna in c:\\users\\juliana.pires\\appdata\\local\\programs\\python\\python312\\lib\\site-packages (from trio~=0.17->selenium) (3.6)\n",
      "Requirement already satisfied: outcome in c:\\users\\juliana.pires\\appdata\\local\\programs\\python\\python312\\lib\\site-packages (from trio~=0.17->selenium) (1.3.0.post0)\n",
      "Requirement already satisfied: sniffio>=1.3.0 in c:\\users\\juliana.pires\\appdata\\local\\programs\\python\\python312\\lib\\site-packages (from trio~=0.17->selenium) (1.3.1)\n",
      "Requirement already satisfied: cffi>=1.14 in c:\\users\\juliana.pires\\appdata\\local\\programs\\python\\python312\\lib\\site-packages (from trio~=0.17->selenium) (1.16.0)\n",
      "Requirement already satisfied: wsproto>=0.14 in c:\\users\\juliana.pires\\appdata\\local\\programs\\python\\python312\\lib\\site-packages (from trio-websocket~=0.9->selenium) (1.2.0)\n",
      "Requirement already satisfied: pysocks!=1.5.7,<2.0,>=1.5.6 in c:\\users\\juliana.pires\\appdata\\local\\programs\\python\\python312\\lib\\site-packages (from urllib3[socks]<3,>=1.26->selenium) (1.7.1)\n",
      "Requirement already satisfied: pycparser in c:\\users\\juliana.pires\\appdata\\local\\programs\\python\\python312\\lib\\site-packages (from cffi>=1.14->trio~=0.17->selenium) (2.21)\n",
      "Requirement already satisfied: h11<1,>=0.9.0 in c:\\users\\juliana.pires\\appdata\\local\\programs\\python\\python312\\lib\\site-packages (from wsproto>=0.14->trio-websocket~=0.9->selenium) (0.14.0)\n",
      "Requirement already satisfied: chromedriver-autoinstaller in c:\\users\\juliana.pires\\appdata\\local\\programs\\python\\python312\\lib\\site-packages (0.6.4)\n",
      "Requirement already satisfied: packaging>=23.1 in c:\\users\\juliana.pires\\appdata\\roaming\\python\\python312\\site-packages (from chromedriver-autoinstaller) (24.0)\n",
      "Requirement already satisfied: pandas in c:\\users\\juliana.pires\\appdata\\local\\programs\\python\\python312\\lib\\site-packages (2.2.1)\n",
      "Requirement already satisfied: numpy<2,>=1.26.0 in c:\\users\\juliana.pires\\appdata\\local\\programs\\python\\python312\\lib\\site-packages (from pandas) (1.26.4)\n",
      "Requirement already satisfied: python-dateutil>=2.8.2 in c:\\users\\juliana.pires\\appdata\\roaming\\python\\python312\\site-packages (from pandas) (2.9.0.post0)\n",
      "Requirement already satisfied: pytz>=2020.1 in c:\\users\\juliana.pires\\appdata\\local\\programs\\python\\python312\\lib\\site-packages (from pandas) (2024.1)\n",
      "Requirement already satisfied: tzdata>=2022.7 in c:\\users\\juliana.pires\\appdata\\local\\programs\\python\\python312\\lib\\site-packages (from pandas) (2024.1)\n",
      "Requirement already satisfied: six>=1.5 in c:\\users\\juliana.pires\\appdata\\roaming\\python\\python312\\site-packages (from python-dateutil>=2.8.2->pandas) (1.16.0)\n",
      "Requirement already satisfied: requests in c:\\users\\juliana.pires\\appdata\\local\\programs\\python\\python312\\lib\\site-packages (2.31.0)\n",
      "Requirement already satisfied: charset-normalizer<4,>=2 in c:\\users\\juliana.pires\\appdata\\local\\programs\\python\\python312\\lib\\site-packages (from requests) (3.3.2)\n",
      "Requirement already satisfied: idna<4,>=2.5 in c:\\users\\juliana.pires\\appdata\\local\\programs\\python\\python312\\lib\\site-packages (from requests) (3.6)\n",
      "Requirement already satisfied: urllib3<3,>=1.21.1 in c:\\users\\juliana.pires\\appdata\\local\\programs\\python\\python312\\lib\\site-packages (from requests) (2.2.1)\n",
      "Requirement already satisfied: certifi>=2017.4.17 in c:\\users\\juliana.pires\\appdata\\local\\programs\\python\\python312\\lib\\site-packages (from requests) (2024.2.2)\n",
      "Requirement already satisfied: bs4 in c:\\users\\juliana.pires\\appdata\\local\\programs\\python\\python312\\lib\\site-packages (0.0.2)\n",
      "Requirement already satisfied: beautifulsoup4 in c:\\users\\juliana.pires\\appdata\\local\\programs\\python\\python312\\lib\\site-packages (from bs4) (4.12.3)\n",
      "Requirement already satisfied: soupsieve>1.2 in c:\\users\\juliana.pires\\appdata\\local\\programs\\python\\python312\\lib\\site-packages (from beautifulsoup4->bs4) (2.5)\n"
     ]
    }
   ],
   "source": [
    "!pip install selenium\n",
    "!pip install chromedriver-autoinstaller\n",
    "!pip install pandas\n",
    "!pip install requests\n",
    "!pip install bs4"
   ]
  },
  {
   "cell_type": "code",
   "execution_count": 82,
   "metadata": {},
   "outputs": [],
   "source": [
    "import pandas as pd\n",
    "import time\n",
    "import requests\n",
    "import chromedriver_autoinstaller\n",
    "\n",
    "from selenium import webdriver\n",
    "from selenium.webdriver.chrome.service import Service\n",
    "from selenium.webdriver.common.by import By\n",
    "from selenium.webdriver.common.keys import Keys\n",
    "from selenium.webdriver.support.ui import Select\n",
    "from selenium.webdriver.chrome.options import Options\n",
    "from bs4 import BeautifulSoup"
   ]
  },
  {
   "cell_type": "code",
   "execution_count": 83,
   "metadata": {},
   "outputs": [],
   "source": [
    "service = Service()\n",
    "\n",
    "options = webdriver.ChromeOptions()\n",
    "\n",
    "driver = webdriver.Chrome(service=service, options=options)"
   ]
  },
  {
   "cell_type": "code",
   "execution_count": 84,
   "metadata": {},
   "outputs": [],
   "source": [
    "driver.get(\"https://anmlegis.datalegis.net/action/ActionDatalegis.php?acao=apresentacao&cod_modulo=351&cod_menu=8014\")\n",
    "time.sleep(5)"
   ]
  },
  {
   "cell_type": "code",
   "execution_count": 85,
   "metadata": {},
   "outputs": [],
   "source": [
    "driver.find_element(By.XPATH,'//*[@id=\"column-2\"]/div[1]/a[4]').click()\n",
    "#clica em \"Títulos Outorgados\""
   ]
  },
  {
   "cell_type": "code",
   "execution_count": 86,
   "metadata": {},
   "outputs": [],
   "source": [
    "driver.find_element(By.XPATH,'//*[@id=\"column-2\"]/div/div[2]/div[4]/ul/li[2]/a').click()\n",
    "time.sleep(5)\n",
    "#clica em \"Guia de Utilização\""
   ]
  },
  {
   "cell_type": "code",
   "execution_count": 87,
   "metadata": {},
   "outputs": [],
   "source": [
    "driver.find_element(By.XPATH,'//*[@id=\"column-2\"]/div[1]/ul/li[1]/a').click()\n",
    "time.sleep(5)\n",
    "#clica em \"2024\""
   ]
  },
  {
   "cell_type": "code",
   "execution_count": 88,
   "metadata": {},
   "outputs": [],
   "source": [
    "soup2024 = BeautifulSoup(driver.page_source, 'html.parser')"
   ]
  },
  {
   "cell_type": "code",
   "execution_count": 89,
   "metadata": {},
   "outputs": [],
   "source": [
    "tabela2024 = soup2024.find('div', {'class': {'col-lg-11 col-md-11 col-sm-12'}})"
   ]
  },
  {
   "cell_type": "code",
   "execution_count": 90,
   "metadata": {},
   "outputs": [],
   "source": [
    "titulos2024 = tabela2024.find_all('strong', {})\n",
    "conteudos2024 = tabela2024.find_all('p')[0:20:2]\n",
    "datasPublicacao2024 = tabela2024.find_all('p', {'class': 'data-hora'})"
   ]
  },
  {
   "cell_type": "code",
   "execution_count": 91,
   "metadata": {},
   "outputs": [],
   "source": [
    "lista_titulos2024 = []\n",
    "lista_conteudos2024 = []\n",
    "lista_datasPublicacao2024 = []\n",
    "\n",
    "for titulo2024 in titulos2024:\n",
    "  lista_titulos2024.append(titulo2024.get_text().strip())\n",
    "\n",
    "for conteudo2024 in conteudos2024:\n",
    "  lista_conteudos2024.append(conteudo2024.get_text().strip())\n",
    "\n",
    "for dataPublicacao2024 in datasPublicacao2024:\n",
    "  lista_datasPublicacao2024.append(dataPublicacao2024.get_text().strip())\n",
    "\n",
    "df_guia2024 = pd.DataFrame([lista_titulos2024, lista_conteudos2024, lista_datasPublicacao2024]).T"
   ]
  },
  {
   "cell_type": "code",
   "execution_count": 92,
   "metadata": {},
   "outputs": [],
   "source": [
    "driver.back()"
   ]
  },
  {
   "cell_type": "code",
   "execution_count": 93,
   "metadata": {},
   "outputs": [],
   "source": [
    "driver.find_element(By.XPATH,'//*[@id=\"column-2\"]/div[1]/ul/li[2]/a').click()\n",
    "time.sleep(5)\n",
    "#clica em \"2023\""
   ]
  },
  {
   "cell_type": "code",
   "execution_count": 94,
   "metadata": {},
   "outputs": [],
   "source": [
    "soup2023 = BeautifulSoup(driver.page_source, 'html.parser')"
   ]
  },
  {
   "cell_type": "code",
   "execution_count": 95,
   "metadata": {},
   "outputs": [],
   "source": [
    "tabela2023 = soup2023.find('div', {'class': {'col-lg-11 col-md-11 col-sm-12'}})"
   ]
  },
  {
   "cell_type": "code",
   "execution_count": 96,
   "metadata": {},
   "outputs": [],
   "source": [
    "titulos2023 = tabela2023.find_all('strong', {})\n",
    "conteudos2023 = tabela2023.find_all('p')[0:20:2]\n",
    "datasPublicacao2023 = tabela2023.find_all('p', {'class': 'data-hora'})"
   ]
  },
  {
   "cell_type": "code",
   "execution_count": 97,
   "metadata": {},
   "outputs": [],
   "source": [
    "lista_titulos2023 = []\n",
    "lista_conteudos2023 = []\n",
    "lista_datasPublicacao2023 = []\n",
    "\n",
    "for titulo2023 in titulos2023:\n",
    "  lista_titulos2023.append(titulo2023.get_text().strip())\n",
    "\n",
    "for conteudo2023 in conteudos2023:\n",
    "  lista_conteudos2023.append(conteudo2023.get_text().strip())\n",
    "\n",
    "for dataPublicacao2023 in datasPublicacao2023:\n",
    "  lista_datasPublicacao2023.append(dataPublicacao2023.get_text().strip())\n",
    "\n",
    "df_guia2023 = pd.DataFrame([lista_titulos2023, lista_conteudos2023, lista_datasPublicacao2023]).T"
   ]
  },
  {
   "cell_type": "code",
   "execution_count": 98,
   "metadata": {},
   "outputs": [],
   "source": [
    "driver.back()"
   ]
  },
  {
   "cell_type": "code",
   "execution_count": 99,
   "metadata": {},
   "outputs": [],
   "source": [
    "driver.find_element(By.XPATH,'//*[@id=\"column-2\"]/div[1]/ul/li[3]/a').click()\n",
    "time.sleep(5)\n",
    "#clica em \"2021\""
   ]
  },
  {
   "cell_type": "code",
   "execution_count": 100,
   "metadata": {},
   "outputs": [],
   "source": [
    "soup2021 = BeautifulSoup(driver.page_source, 'html.parser')"
   ]
  },
  {
   "cell_type": "code",
   "execution_count": 101,
   "metadata": {},
   "outputs": [],
   "source": [
    "tabela2021 = soup2021.find('div', {'class': {'col-lg-11 col-md-11 col-sm-12'}})"
   ]
  },
  {
   "cell_type": "code",
   "execution_count": 102,
   "metadata": {},
   "outputs": [],
   "source": [
    "titulos2021 = tabela2021.find_all('strong', {})\n",
    "conteudos2021 = tabela2021.find_all('p')[0:20:2]\n",
    "datasPublicacao2021 = tabela2021.find_all('p', {'class': 'data-hora'})"
   ]
  },
  {
   "cell_type": "code",
   "execution_count": 103,
   "metadata": {},
   "outputs": [],
   "source": [
    "lista_titulos2021 = []\n",
    "lista_conteudos2021 = []\n",
    "lista_datasPublicacao2021 = []\n",
    "\n",
    "for titulo2021 in titulos2021:\n",
    "  lista_titulos2021.append(titulo2021.get_text().strip())\n",
    "\n",
    "for conteudo2021 in conteudos2021:\n",
    "  lista_conteudos2021.append(conteudo2021.get_text().strip())\n",
    "\n",
    "for dataPublicacao2021 in datasPublicacao2021:\n",
    "  lista_datasPublicacao2021.append(dataPublicacao2021.get_text().strip())\n",
    "\n",
    "df_guia2021 = pd.DataFrame([lista_titulos2021, lista_conteudos2021, lista_datasPublicacao2021]).T"
   ]
  },
  {
   "cell_type": "code",
   "execution_count": 104,
   "metadata": {},
   "outputs": [],
   "source": [
    "driver.back()"
   ]
  },
  {
   "cell_type": "code",
   "execution_count": 105,
   "metadata": {},
   "outputs": [],
   "source": [
    "driver.find_element(By.XPATH,'//*[@id=\"column-2\"]/div[1]/ul/li[4]/a').click()\n",
    "time.sleep(5)\n",
    "#clica em \"2020\""
   ]
  },
  {
   "cell_type": "code",
   "execution_count": 106,
   "metadata": {},
   "outputs": [],
   "source": [
    "soup2020 = BeautifulSoup(driver.page_source, 'html.parser')"
   ]
  },
  {
   "cell_type": "code",
   "execution_count": 107,
   "metadata": {},
   "outputs": [],
   "source": [
    "tabela2020 = soup2020.find('div', {'class': {'col-lg-11 col-md-11 col-sm-12'}})"
   ]
  },
  {
   "cell_type": "code",
   "execution_count": 108,
   "metadata": {},
   "outputs": [],
   "source": [
    "titulos2020 = tabela2020.find_all('strong', {})\n",
    "conteudos2020 = tabela2020.find_all('p')[0:50:2]\n",
    "datasPublicacao2020 = tabela2020.find_all('p', {'class': 'data-hora'})"
   ]
  },
  {
   "cell_type": "code",
   "execution_count": 109,
   "metadata": {},
   "outputs": [],
   "source": [
    "lista_titulos2020 = []\n",
    "lista_conteudos2020 = []\n",
    "lista_datasPublicacao2020 = []\n",
    "\n",
    "for titulo2020 in titulos2020:\n",
    "  lista_titulos2020.append(titulo2020.get_text().strip())\n",
    "\n",
    "for conteudo2020 in conteudos2020:\n",
    "  lista_conteudos2020.append(conteudo2020.get_text().strip())\n",
    "\n",
    "for dataPublicacao2020 in datasPublicacao2020:\n",
    "  lista_datasPublicacao2020.append(dataPublicacao2020.get_text().strip())\n",
    "\n",
    "df_guia2020 = pd.DataFrame([lista_titulos2020, lista_conteudos2020, lista_datasPublicacao2020]).T"
   ]
  },
  {
   "cell_type": "code",
   "execution_count": 110,
   "metadata": {},
   "outputs": [],
   "source": [
    "driver.back()"
   ]
  },
  {
   "cell_type": "code",
   "execution_count": 111,
   "metadata": {},
   "outputs": [],
   "source": [
    "driver.find_element(By.XPATH,'//*[@id=\"column-2\"]/div[1]/ul/li[5]/a').click()\n",
    "time.sleep(5)\n",
    "#clica em \"2019\""
   ]
  },
  {
   "cell_type": "code",
   "execution_count": 112,
   "metadata": {},
   "outputs": [],
   "source": [
    "soup2019 = BeautifulSoup(driver.page_source, 'html.parser')"
   ]
  },
  {
   "cell_type": "code",
   "execution_count": 113,
   "metadata": {},
   "outputs": [],
   "source": [
    "tabela2019 = soup2019.find('div', {'class': {'col-lg-11 col-md-11 col-sm-12'}})"
   ]
  },
  {
   "cell_type": "code",
   "execution_count": 114,
   "metadata": {},
   "outputs": [],
   "source": [
    "titulos2019 = tabela2019.find_all('strong', {})\n",
    "conteudos2019 = tabela2019.find_all('p')[0:50:2]\n",
    "datasPublicacao2019 = tabela2019.find_all('p', {'class': 'data-hora'})"
   ]
  },
  {
   "cell_type": "code",
   "execution_count": 115,
   "metadata": {},
   "outputs": [],
   "source": [
    "lista_titulos2019 = []\n",
    "lista_conteudos2019 = []\n",
    "lista_datasPublicacao2019 = []\n",
    "\n",
    "for titulo2019 in titulos2019:\n",
    "  lista_titulos2019.append(titulo2019.get_text().strip())\n",
    "\n",
    "for conteudo2019 in conteudos2019:\n",
    "  lista_conteudos2019.append(conteudo2019.get_text().strip())\n",
    "\n",
    "for dataPublicacao2019 in datasPublicacao2019:\n",
    "  lista_datasPublicacao2019.append(dataPublicacao2019.get_text().strip())\n",
    "\n",
    "df_guia2019 = pd.DataFrame([lista_titulos2019, lista_conteudos2019, lista_datasPublicacao2019]).T"
   ]
  },
  {
   "cell_type": "code",
   "execution_count": 116,
   "metadata": {},
   "outputs": [],
   "source": [
    "driver.back()"
   ]
  },
  {
   "cell_type": "code",
   "execution_count": 117,
   "metadata": {},
   "outputs": [],
   "source": [
    "driver.find_element(By.XPATH,'//*[@id=\"column-2\"]/div[1]/ul/li[6]/a').click()\n",
    "time.sleep(5)\n",
    "#clica em \"2018\""
   ]
  },
  {
   "cell_type": "code",
   "execution_count": 118,
   "metadata": {},
   "outputs": [],
   "source": [
    "soup2018 = BeautifulSoup(driver.page_source, 'html.parser')"
   ]
  },
  {
   "cell_type": "code",
   "execution_count": 119,
   "metadata": {},
   "outputs": [],
   "source": [
    "tabela2018 = soup2018.find('div', {'class': {'col-lg-11 col-md-11 col-sm-12'}})"
   ]
  },
  {
   "cell_type": "code",
   "execution_count": 120,
   "metadata": {},
   "outputs": [],
   "source": [
    "titulos2018 = tabela2018.find_all('strong', {})\n",
    "conteudos2018 = tabela2018.find_all('p')[0:20:2]\n",
    "datasPublicacao2018 = tabela2018.find_all('p', {'class': 'data-hora'})"
   ]
  },
  {
   "cell_type": "code",
   "execution_count": 121,
   "metadata": {},
   "outputs": [],
   "source": [
    "lista_titulos2018 = []\n",
    "lista_conteudos2018 = []\n",
    "lista_datasPublicacao2018 = []\n",
    "\n",
    "for titulo2018 in titulos2018:\n",
    "  lista_titulos2018.append(titulo2018.get_text().strip())\n",
    "\n",
    "for conteudo2018 in conteudos2018:\n",
    "  lista_conteudos2018.append(conteudo2018.get_text().strip())\n",
    "\n",
    "for dataPublicacao2018 in datasPublicacao2018:\n",
    "  lista_datasPublicacao2018.append(dataPublicacao2018.get_text().strip())\n",
    "\n",
    "df_guia2018 = pd.DataFrame([lista_titulos2018, lista_conteudos2018, lista_datasPublicacao2018]).T"
   ]
  },
  {
   "cell_type": "code",
   "execution_count": 122,
   "metadata": {},
   "outputs": [],
   "source": [
    "driver.back()"
   ]
  },
  {
   "cell_type": "code",
   "execution_count": 123,
   "metadata": {},
   "outputs": [],
   "source": [
    "driver.find_element(By.XPATH,'//*[@id=\"column-2\"]/div[1]/ul/li[7]/a').click()\n",
    "time.sleep(5)\n",
    "#clica em \"2017\""
   ]
  },
  {
   "cell_type": "code",
   "execution_count": 124,
   "metadata": {},
   "outputs": [],
   "source": [
    "soup2017 = BeautifulSoup(driver.page_source, 'html.parser')"
   ]
  },
  {
   "cell_type": "code",
   "execution_count": 125,
   "metadata": {},
   "outputs": [],
   "source": [
    "tabela2017 = soup2017.find('div', {'class': {'col-lg-11 col-md-11 col-sm-12'}})"
   ]
  },
  {
   "cell_type": "code",
   "execution_count": 126,
   "metadata": {},
   "outputs": [],
   "source": [
    "titulos2017 = tabela2017.find_all('strong', {})\n",
    "conteudos2017 = tabela2017.find_all('p')[0:20:2]\n",
    "datasPublicacao2017 = tabela2017.find_all('p', {'class': 'data-hora'})"
   ]
  },
  {
   "cell_type": "code",
   "execution_count": 127,
   "metadata": {},
   "outputs": [],
   "source": [
    "lista_titulos2017 = []\n",
    "lista_conteudos2017 = []\n",
    "lista_datasPublicacao2017 = []\n",
    "\n",
    "for titulo2017 in titulos2017:\n",
    "  lista_titulos2017.append(titulo2017.get_text().strip())\n",
    "\n",
    "for conteudo2017 in conteudos2017:\n",
    "  lista_conteudos2017.append(conteudo2017.get_text().strip())\n",
    "\n",
    "for dataPublicacao2017 in datasPublicacao2017:\n",
    "  lista_datasPublicacao2017.append(dataPublicacao2017.get_text().strip())\n",
    "\n",
    "df_guia2017 = pd.DataFrame([lista_titulos2017, lista_conteudos2017, lista_datasPublicacao2017]).T"
   ]
  },
  {
   "cell_type": "code",
   "execution_count": 128,
   "metadata": {},
   "outputs": [],
   "source": [
    "driver.back()"
   ]
  },
  {
   "cell_type": "code",
   "execution_count": 129,
   "metadata": {},
   "outputs": [],
   "source": [
    "driver.find_element(By.XPATH,'//*[@id=\"column-2\"]/div[1]/ul/li[8]/a').click()\n",
    "time.sleep(5)\n",
    "#clica em \"2016\""
   ]
  },
  {
   "cell_type": "code",
   "execution_count": 130,
   "metadata": {},
   "outputs": [],
   "source": [
    "soup2016 = BeautifulSoup(driver.page_source, 'html.parser')"
   ]
  },
  {
   "cell_type": "code",
   "execution_count": 131,
   "metadata": {},
   "outputs": [],
   "source": [
    "tabela2016 = soup2016.find('div', {'class': {'col-lg-11 col-md-11 col-sm-12'}})"
   ]
  },
  {
   "cell_type": "code",
   "execution_count": 132,
   "metadata": {},
   "outputs": [],
   "source": [
    "titulos2016 = tabela2016.find_all('strong', {})\n",
    "conteudos2016 = tabela2016.find_all('p')[0:20:2]\n",
    "datasPublicacao2016 = tabela2016.find_all('p', {'class': 'data-hora'})"
   ]
  },
  {
   "cell_type": "code",
   "execution_count": 133,
   "metadata": {},
   "outputs": [],
   "source": [
    "lista_titulos2016 = []\n",
    "lista_conteudos2016 = []\n",
    "lista_datasPublicacao2016 = []\n",
    "\n",
    "for titulo2016 in titulos2016:\n",
    "  lista_titulos2016.append(titulo2016.get_text().strip())\n",
    "\n",
    "for conteudo2016 in conteudos2016:\n",
    "  lista_conteudos2016.append(conteudo2016.get_text().strip())\n",
    "\n",
    "for dataPublicacao2016 in datasPublicacao2016:\n",
    "  lista_datasPublicacao2016.append(dataPublicacao2016.get_text().strip())\n",
    "\n",
    "df_guia2016 = pd.DataFrame([lista_titulos2016, lista_conteudos2016, lista_datasPublicacao2016]).T"
   ]
  },
  {
   "cell_type": "code",
   "execution_count": 134,
   "metadata": {},
   "outputs": [],
   "source": [
    "driver.back()"
   ]
  },
  {
   "cell_type": "code",
   "execution_count": 135,
   "metadata": {},
   "outputs": [],
   "source": [
    "driver.find_element(By.XPATH,'//*[@id=\"column-2\"]/div[1]/ul/li[9]/a').click()\n",
    "time.sleep(5)\n",
    "#clica em \"2013\""
   ]
  },
  {
   "cell_type": "code",
   "execution_count": 136,
   "metadata": {},
   "outputs": [],
   "source": [
    "soup2013 = BeautifulSoup(driver.page_source, 'html.parser')"
   ]
  },
  {
   "cell_type": "code",
   "execution_count": 137,
   "metadata": {},
   "outputs": [],
   "source": [
    "tabela2013 = soup2013.find('div', {'class': {'col-lg-11 col-md-11 col-sm-12'}})"
   ]
  },
  {
   "cell_type": "code",
   "execution_count": 138,
   "metadata": {},
   "outputs": [],
   "source": [
    "titulos2013 = tabela2013.find_all('strong', {})\n",
    "conteudos2013 = tabela2013.find_all('p')[0:20:2]\n",
    "datasPublicacao2013 = tabela2013.find_all('p', {'class': 'data-hora'})"
   ]
  },
  {
   "cell_type": "code",
   "execution_count": 139,
   "metadata": {},
   "outputs": [],
   "source": [
    "lista_titulos2013 = []\n",
    "lista_conteudos2013 = []\n",
    "lista_datasPublicacao2013 = []\n",
    "\n",
    "for titulo2013 in titulos2013:\n",
    "  lista_titulos2013.append(titulo2013.get_text().strip())\n",
    "\n",
    "for conteudo2013 in conteudos2013:\n",
    "  lista_conteudos2013.append(conteudo2013.get_text().strip())\n",
    "\n",
    "for dataPublicacao2013 in datasPublicacao2013:\n",
    "  lista_datasPublicacao2013.append(dataPublicacao2013.get_text().strip())\n",
    "\n",
    "df_guia2013 = pd.DataFrame([lista_titulos2013, lista_conteudos2013, lista_datasPublicacao2013]).T"
   ]
  },
  {
   "cell_type": "code",
   "execution_count": 140,
   "metadata": {},
   "outputs": [],
   "source": [
    "driver.back()"
   ]
  },
  {
   "cell_type": "code",
   "execution_count": 141,
   "metadata": {},
   "outputs": [],
   "source": [
    "driver.find_element(By.XPATH,'//*[@id=\"column-2\"]/div[1]/ul/li[10]/a').click()\n",
    "time.sleep(5)\n",
    "#clica em \"2012\""
   ]
  },
  {
   "cell_type": "code",
   "execution_count": 142,
   "metadata": {},
   "outputs": [],
   "source": [
    "soup2012 = BeautifulSoup(driver.page_source, 'html.parser')"
   ]
  },
  {
   "cell_type": "code",
   "execution_count": 143,
   "metadata": {},
   "outputs": [],
   "source": [
    "tabela2012 = soup2012.find('div', {'class': {'col-lg-11 col-md-11 col-sm-12'}})"
   ]
  },
  {
   "cell_type": "code",
   "execution_count": 144,
   "metadata": {},
   "outputs": [],
   "source": [
    "titulos2012 = tabela2012.find_all('strong', {})\n",
    "conteudos2012 = tabela2012.find_all('p')[0:20:2]\n",
    "datasPublicacao2012 = tabela2012.find_all('p', {'class': 'data-hora'})"
   ]
  },
  {
   "cell_type": "code",
   "execution_count": 145,
   "metadata": {},
   "outputs": [],
   "source": [
    "lista_titulos2012 = []\n",
    "lista_conteudos2012 = []\n",
    "lista_datasPublicacao2012 = []\n",
    "\n",
    "for titulo2012 in titulos2012:\n",
    "  lista_titulos2012.append(titulo2012.get_text().strip())\n",
    "\n",
    "for conteudo2012 in conteudos2012:\n",
    "  lista_conteudos2012.append(conteudo2012.get_text().strip())\n",
    "\n",
    "for dataPublicacao2012 in datasPublicacao2012:\n",
    "  lista_datasPublicacao2012.append(dataPublicacao2012.get_text().strip())\n",
    "\n",
    "df_guia2012 = pd.DataFrame([lista_titulos2012, lista_conteudos2012, lista_datasPublicacao2012]).T"
   ]
  },
  {
   "cell_type": "code",
   "execution_count": 146,
   "metadata": {},
   "outputs": [],
   "source": [
    "driver.back()"
   ]
  },
  {
   "cell_type": "code",
   "execution_count": 147,
   "metadata": {},
   "outputs": [],
   "source": [
    "driver.find_element(By.XPATH,'//*[@id=\"column-2\"]/div[1]/ul/li[11]/a').click()\n",
    "time.sleep(5)\n",
    "#clica em \"2011\""
   ]
  },
  {
   "cell_type": "code",
   "execution_count": 148,
   "metadata": {},
   "outputs": [],
   "source": [
    "soup2011 = BeautifulSoup(driver.page_source, 'html.parser')"
   ]
  },
  {
   "cell_type": "code",
   "execution_count": 149,
   "metadata": {},
   "outputs": [],
   "source": [
    "tabela2011 = soup2011.find('div', {'class': {'col-lg-11 col-md-11 col-sm-12'}})"
   ]
  },
  {
   "cell_type": "code",
   "execution_count": 150,
   "metadata": {},
   "outputs": [],
   "source": [
    "titulos2011 = tabela2011.find_all('strong', {})\n",
    "conteudos2011 = tabela2011.find_all('p')[0:20:2]\n",
    "datasPublicacao2011 = tabela2011.find_all('p', {'class': 'data-hora'})"
   ]
  },
  {
   "cell_type": "code",
   "execution_count": 151,
   "metadata": {},
   "outputs": [],
   "source": [
    "lista_titulos2011 = []\n",
    "lista_conteudos2011 = []\n",
    "lista_datasPublicacao2011 = []\n",
    "\n",
    "for titulo2011 in titulos2011:\n",
    "  lista_titulos2011.append(titulo2011.get_text().strip())\n",
    "\n",
    "for conteudo2011 in conteudos2011:\n",
    "  lista_conteudos2011.append(conteudo2011.get_text().strip())\n",
    "\n",
    "for dataPublicacao2011 in datasPublicacao2011:\n",
    "  lista_datasPublicacao2011.append(dataPublicacao2011.get_text().strip())\n",
    "\n",
    "df_guia2011 = pd.DataFrame([lista_titulos2011, lista_conteudos2011, lista_datasPublicacao2011]).T"
   ]
  },
  {
   "cell_type": "code",
   "execution_count": 152,
   "metadata": {},
   "outputs": [],
   "source": [
    "driver.back()"
   ]
  },
  {
   "cell_type": "code",
   "execution_count": 153,
   "metadata": {},
   "outputs": [],
   "source": [
    "driver.find_element(By.XPATH,'//*[@id=\"column-2\"]/div[1]/ul/li[12]/a').click()\n",
    "time.sleep(5)\n",
    "#clica em \"2010\""
   ]
  },
  {
   "cell_type": "code",
   "execution_count": 154,
   "metadata": {},
   "outputs": [],
   "source": [
    "soup2010 = BeautifulSoup(driver.page_source, 'html.parser')"
   ]
  },
  {
   "cell_type": "code",
   "execution_count": 155,
   "metadata": {},
   "outputs": [],
   "source": [
    "tabela2010 = soup2010.find('div', {'class': {'col-lg-11 col-md-11 col-sm-12'}})"
   ]
  },
  {
   "cell_type": "code",
   "execution_count": 156,
   "metadata": {},
   "outputs": [],
   "source": [
    "titulos2010 = tabela2010.find_all('strong', {})\n",
    "conteudos2010 = tabela2010.find_all('p')[0:50:2]\n",
    "datasPublicacao2010 = tabela2010.find_all('p', {'class': 'data-hora'})"
   ]
  },
  {
   "cell_type": "code",
   "execution_count": 157,
   "metadata": {},
   "outputs": [],
   "source": [
    "lista_titulos2010 = []\n",
    "lista_conteudos2010 = []\n",
    "lista_datasPublicacao2010 = []\n",
    "\n",
    "for titulo2010 in titulos2010:\n",
    "  lista_titulos2010.append(titulo2010.get_text().strip())\n",
    "\n",
    "for conteudo2010 in conteudos2010:\n",
    "  lista_conteudos2010.append(conteudo2010.get_text().strip())\n",
    "\n",
    "for dataPublicacao2010 in datasPublicacao2010:\n",
    "  lista_datasPublicacao2010.append(dataPublicacao2010.get_text().strip())\n",
    "\n",
    "df_guia2010 = pd.DataFrame([lista_titulos2010, lista_conteudos2010, lista_datasPublicacao2010]).T"
   ]
  },
  {
   "cell_type": "code",
   "execution_count": 158,
   "metadata": {},
   "outputs": [],
   "source": [
    "driver.back()"
   ]
  },
  {
   "cell_type": "code",
   "execution_count": 159,
   "metadata": {},
   "outputs": [],
   "source": [
    "guiaUtilizacao = pd.concat([df_guia2010, df_guia2011, df_guia2012, df_guia2013, df_guia2016, df_guia2017, df_guia2018, df_guia2019, df_guia2020, df_guia2021, df_guia2023, df_guia2024])"
   ]
  },
  {
   "cell_type": "code",
   "execution_count": null,
   "metadata": {},
   "outputs": [],
   "source": [
    "guiaUtilizacao"
   ]
  }
 ],
 "metadata": {
  "kernelspec": {
   "display_name": "Python 3",
   "language": "python",
   "name": "python3"
  },
  "language_info": {
   "codemirror_mode": {
    "name": "ipython",
    "version": 3
   },
   "file_extension": ".py",
   "mimetype": "text/x-python",
   "name": "python",
   "nbconvert_exporter": "python",
   "pygments_lexer": "ipython3",
   "version": "3.12.2"
  }
 },
 "nbformat": 4,
 "nbformat_minor": 2
}
