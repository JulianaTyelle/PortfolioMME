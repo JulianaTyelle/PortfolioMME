{
 "cells": [
  {
   "cell_type": "code",
   "execution_count": 1,
   "metadata": {},
   "outputs": [
    {
     "name": "stdout",
     "output_type": "stream",
     "text": [
      "Requirement already satisfied: selenium in c:\\users\\juliana.pires\\appdata\\local\\programs\\python\\python312\\lib\\site-packages (4.19.0)\n",
      "Requirement already satisfied: urllib3<3,>=1.26 in c:\\users\\juliana.pires\\appdata\\local\\programs\\python\\python312\\lib\\site-packages (from urllib3[socks]<3,>=1.26->selenium) (2.2.1)\n",
      "Requirement already satisfied: trio~=0.17 in c:\\users\\juliana.pires\\appdata\\local\\programs\\python\\python312\\lib\\site-packages (from selenium) (0.25.0)\n",
      "Requirement already satisfied: trio-websocket~=0.9 in c:\\users\\juliana.pires\\appdata\\local\\programs\\python\\python312\\lib\\site-packages (from selenium) (0.11.1)\n",
      "Requirement already satisfied: certifi>=2021.10.8 in c:\\users\\juliana.pires\\appdata\\local\\programs\\python\\python312\\lib\\site-packages (from selenium) (2024.2.2)\n",
      "Requirement already satisfied: typing_extensions>=4.9.0 in c:\\users\\juliana.pires\\appdata\\local\\programs\\python\\python312\\lib\\site-packages (from selenium) (4.10.0)\n",
      "Requirement already satisfied: attrs>=23.2.0 in c:\\users\\juliana.pires\\appdata\\local\\programs\\python\\python312\\lib\\site-packages (from trio~=0.17->selenium) (23.2.0)\n",
      "Requirement already satisfied: sortedcontainers in c:\\users\\juliana.pires\\appdata\\local\\programs\\python\\python312\\lib\\site-packages (from trio~=0.17->selenium) (2.4.0)\n",
      "Requirement already satisfied: idna in c:\\users\\juliana.pires\\appdata\\local\\programs\\python\\python312\\lib\\site-packages (from trio~=0.17->selenium) (3.6)\n",
      "Requirement already satisfied: outcome in c:\\users\\juliana.pires\\appdata\\local\\programs\\python\\python312\\lib\\site-packages (from trio~=0.17->selenium) (1.3.0.post0)\n",
      "Requirement already satisfied: sniffio>=1.3.0 in c:\\users\\juliana.pires\\appdata\\local\\programs\\python\\python312\\lib\\site-packages (from trio~=0.17->selenium) (1.3.1)\n",
      "Requirement already satisfied: cffi>=1.14 in c:\\users\\juliana.pires\\appdata\\local\\programs\\python\\python312\\lib\\site-packages (from trio~=0.17->selenium) (1.16.0)\n",
      "Requirement already satisfied: wsproto>=0.14 in c:\\users\\juliana.pires\\appdata\\local\\programs\\python\\python312\\lib\\site-packages (from trio-websocket~=0.9->selenium) (1.2.0)\n",
      "Requirement already satisfied: pysocks!=1.5.7,<2.0,>=1.5.6 in c:\\users\\juliana.pires\\appdata\\local\\programs\\python\\python312\\lib\\site-packages (from urllib3[socks]<3,>=1.26->selenium) (1.7.1)\n",
      "Requirement already satisfied: pycparser in c:\\users\\juliana.pires\\appdata\\local\\programs\\python\\python312\\lib\\site-packages (from cffi>=1.14->trio~=0.17->selenium) (2.21)\n",
      "Requirement already satisfied: h11<1,>=0.9.0 in c:\\users\\juliana.pires\\appdata\\local\\programs\\python\\python312\\lib\\site-packages (from wsproto>=0.14->trio-websocket~=0.9->selenium) (0.14.0)\n",
      "Requirement already satisfied: chromedriver-autoinstaller in c:\\users\\juliana.pires\\appdata\\local\\programs\\python\\python312\\lib\\site-packages (0.6.4)\n",
      "Requirement already satisfied: packaging>=23.1 in c:\\users\\juliana.pires\\appdata\\roaming\\python\\python312\\site-packages (from chromedriver-autoinstaller) (24.0)\n",
      "Requirement already satisfied: pandas in c:\\users\\juliana.pires\\appdata\\local\\programs\\python\\python312\\lib\\site-packages (2.2.1)\n",
      "Requirement already satisfied: numpy<2,>=1.26.0 in c:\\users\\juliana.pires\\appdata\\local\\programs\\python\\python312\\lib\\site-packages (from pandas) (1.26.4)\n",
      "Requirement already satisfied: python-dateutil>=2.8.2 in c:\\users\\juliana.pires\\appdata\\roaming\\python\\python312\\site-packages (from pandas) (2.9.0.post0)\n",
      "Requirement already satisfied: pytz>=2020.1 in c:\\users\\juliana.pires\\appdata\\local\\programs\\python\\python312\\lib\\site-packages (from pandas) (2024.1)\n",
      "Requirement already satisfied: tzdata>=2022.7 in c:\\users\\juliana.pires\\appdata\\local\\programs\\python\\python312\\lib\\site-packages (from pandas) (2024.1)\n",
      "Requirement already satisfied: six>=1.5 in c:\\users\\juliana.pires\\appdata\\roaming\\python\\python312\\site-packages (from python-dateutil>=2.8.2->pandas) (1.16.0)\n",
      "Requirement already satisfied: requests in c:\\users\\juliana.pires\\appdata\\local\\programs\\python\\python312\\lib\\site-packages (2.31.0)\n",
      "Requirement already satisfied: charset-normalizer<4,>=2 in c:\\users\\juliana.pires\\appdata\\local\\programs\\python\\python312\\lib\\site-packages (from requests) (3.3.2)\n",
      "Requirement already satisfied: idna<4,>=2.5 in c:\\users\\juliana.pires\\appdata\\local\\programs\\python\\python312\\lib\\site-packages (from requests) (3.6)\n",
      "Requirement already satisfied: urllib3<3,>=1.21.1 in c:\\users\\juliana.pires\\appdata\\local\\programs\\python\\python312\\lib\\site-packages (from requests) (2.2.1)\n",
      "Requirement already satisfied: certifi>=2017.4.17 in c:\\users\\juliana.pires\\appdata\\local\\programs\\python\\python312\\lib\\site-packages (from requests) (2024.2.2)\n",
      "Requirement already satisfied: bs4 in c:\\users\\juliana.pires\\appdata\\local\\programs\\python\\python312\\lib\\site-packages (0.0.2)\n",
      "Requirement already satisfied: beautifulsoup4 in c:\\users\\juliana.pires\\appdata\\local\\programs\\python\\python312\\lib\\site-packages (from bs4) (4.12.3)\n",
      "Requirement already satisfied: soupsieve>1.2 in c:\\users\\juliana.pires\\appdata\\local\\programs\\python\\python312\\lib\\site-packages (from beautifulsoup4->bs4) (2.5)\n"
     ]
    }
   ],
   "source": [
    "!pip install selenium\n",
    "!pip install chromedriver-autoinstaller\n",
    "!pip install pandas\n",
    "!pip install requests\n",
    "!pip install bs4"
   ]
  },
  {
   "cell_type": "code",
   "execution_count": 2,
   "metadata": {},
   "outputs": [],
   "source": [
    "import pandas as pd\n",
    "import time\n",
    "import requests\n",
    "import chromedriver_autoinstaller\n",
    "\n",
    "from selenium import webdriver\n",
    "from selenium.webdriver.chrome.service import Service\n",
    "from selenium.webdriver.common.by import By\n",
    "from selenium.webdriver.common.keys import Keys\n",
    "from selenium.webdriver.support.ui import Select\n",
    "from selenium.webdriver.chrome.options import Options\n",
    "from bs4 import BeautifulSoup"
   ]
  },
  {
   "cell_type": "code",
   "execution_count": 3,
   "metadata": {},
   "outputs": [],
   "source": [
    "def scroll_to_bottom(driver):\n",
    "    last_height = driver.execute_script(\"return document.body.scrollHeight\")\n",
    "    while True:\n",
    "        driver.execute_script(\"window.scrollTo(0, document.body.scrollHeight);\")\n",
    "        time.sleep(5)\n",
    "        new_height = driver.execute_script(\"return document.body.scrollHeight\")\n",
    "        if new_height == last_height:\n",
    "            break\n",
    "        last_height = new_height\n"
   ]
  },
  {
   "cell_type": "code",
   "execution_count": 4,
   "metadata": {},
   "outputs": [],
   "source": [
    "def click_element(driver, xpath):\n",
    "    driver.find_element(By.XPATH, xpath).click()"
   ]
  },
  {
   "cell_type": "code",
   "execution_count": 5,
   "metadata": {},
   "outputs": [],
   "source": [
    "def scrape_page(driver):\n",
    "    soup = BeautifulSoup(driver.page_source, 'html.parser')\n",
    "    tabela = soup.find('div', {'class': {'col-lg-11 col-md-11 col-sm-12'}})\n",
    "    titulos = tabela.find_all('strong', {})\n",
    "    conteudos = tabela.find_all('p')[0::2]\n",
    "    datas_publicacao = tabela.find_all('p', {'class': 'data-hora'})\n",
    "\n",
    "    lista_titulos = [titulo.get_text().strip() for titulo in titulos]\n",
    "    lista_conteudos = [conteudo.get_text().strip() for conteudo in conteudos]\n",
    "    lista_datas_publicacao = [data.get_text().strip() for data in datas_publicacao]\n",
    "\n",
    "    return pd.DataFrame([lista_titulos, lista_conteudos, lista_datas_publicacao]).T"
   ]
  },
  {
   "cell_type": "code",
   "execution_count": 6,
   "metadata": {},
   "outputs": [],
   "source": [
    "service = webdriver.chrome.service.Service()\n",
    "\n",
    "options = webdriver.ChromeOptions()\n",
    "\n",
    "driver = webdriver.Chrome(service=service, options=options)"
   ]
  },
  {
   "cell_type": "code",
   "execution_count": 10,
   "metadata": {},
   "outputs": [],
   "source": [
    "driver.get(\"https://anmlegis.datalegis.net/action/ActionDatalegis.php?acao=apresentacao&cod_modulo=351&cod_menu=8014\")"
   ]
  },
  {
   "cell_type": "code",
   "execution_count": 11,
   "metadata": {},
   "outputs": [],
   "source": [
    "# Click em \"Títulos Outorgados\"\n",
    "click_element(driver, '//*[@id=\"column-2\"]/div[1]/a[4]')"
   ]
  },
  {
   "cell_type": "code",
   "execution_count": 12,
   "metadata": {},
   "outputs": [],
   "source": [
    "# Click em \"Portarias de concessão de lavra\"\n",
    "click_element(driver, '//*[@id=\"column-2\"]/div/div[2]/div[4]/ul/li[4]/a')"
   ]
  },
  {
   "cell_type": "code",
   "execution_count": 13,
   "metadata": {},
   "outputs": [],
   "source": [
    "# Click em \"2024\"\n",
    "click_element(driver, '//*[@id=\"column-2\"]/div[1]/ul[1]/li[1]/a')\n",
    "scroll_to_bottom(driver)\n",
    "df_pcl2024 = scrape_page(driver)\n",
    "driver.back()"
   ]
  },
  {
   "cell_type": "code",
   "execution_count": 14,
   "metadata": {},
   "outputs": [],
   "source": [
    "# Click em \"2023\"\n",
    "click_element(driver, '//*[@id=\"column-2\"]/div[1]/ul[1]/li[2]/a')\n",
    "scroll_to_bottom(driver)\n",
    "df_pcl2023 = scrape_page(driver)\n",
    "driver.back()"
   ]
  },
  {
   "cell_type": "code",
   "execution_count": 15,
   "metadata": {},
   "outputs": [],
   "source": [
    "# Click em \"2022\"\n",
    "click_element(driver, '//*[@id=\"column-2\"]/div[1]/ul[1]/li[3]/a')\n",
    "scroll_to_bottom(driver)\n",
    "df_pcl2022 = scrape_page(driver)\n",
    "driver.back()"
   ]
  },
  {
   "cell_type": "code",
   "execution_count": 19,
   "metadata": {},
   "outputs": [],
   "source": [
    "# Click em \"2021\"\n",
    "click_element(driver, '//*[@id=\"column-2\"]/div[1]/ul[1]/li[4]/a')\n",
    "scroll_to_bottom(driver)\n",
    "df_pcl2021 = scrape_page(driver)\n",
    "driver.back()"
   ]
  },
  {
   "cell_type": "code",
   "execution_count": 21,
   "metadata": {},
   "outputs": [],
   "source": [
    "# Click em \"2020\"\n",
    "click_element(driver, '//*[@id=\"column-2\"]/div[1]/ul[1]/li[5]/a')\n",
    "scroll_to_bottom(driver)\n",
    "df_pcl2020 = scrape_page(driver)\n",
    "driver.back()"
   ]
  },
  {
   "cell_type": "code",
   "execution_count": 23,
   "metadata": {},
   "outputs": [],
   "source": [
    "# Click em \"2019\"\n",
    "click_element(driver, '//*[@id=\"column-2\"]/div[1]/ul[1]/li[6]/a')\n",
    "scroll_to_bottom(driver)\n",
    "df_pcl2019 = scrape_page(driver)\n",
    "driver.back()"
   ]
  },
  {
   "cell_type": "code",
   "execution_count": 24,
   "metadata": {},
   "outputs": [],
   "source": [
    "# Click em \"2018\"\n",
    "click_element(driver, '//*[@id=\"column-2\"]/div[1]/ul[1]/li[7]/a')\n",
    "scroll_to_bottom(driver)\n",
    "df_pcl2018 = scrape_page(driver)\n",
    "driver.back()"
   ]
  },
  {
   "cell_type": "code",
   "execution_count": 25,
   "metadata": {},
   "outputs": [],
   "source": [
    "# Click em \"2017\"\n",
    "click_element(driver, '//*[@id=\"column-2\"]/div[1]/ul[1]/li[8]/a')\n",
    "scroll_to_bottom(driver)\n",
    "df_pcl2017 = scrape_page(driver)\n",
    "driver.back()"
   ]
  },
  {
   "cell_type": "code",
   "execution_count": 26,
   "metadata": {},
   "outputs": [],
   "source": [
    "# Click em \"2016\"\n",
    "click_element(driver, '//*[@id=\"column-2\"]/div[1]/ul[1]/li[9]/a')\n",
    "scroll_to_bottom(driver)\n",
    "df_pcl2016 = scrape_page(driver)\n",
    "driver.back()"
   ]
  },
  {
   "cell_type": "code",
   "execution_count": 27,
   "metadata": {},
   "outputs": [],
   "source": [
    "# Click em \"2015\"\n",
    "click_element(driver, '//*[@id=\"column-2\"]/div[1]/ul[2]/li[1]/a')\n",
    "scroll_to_bottom(driver)\n",
    "df_pcl2015 = scrape_page(driver)\n",
    "driver.back()"
   ]
  },
  {
   "cell_type": "code",
   "execution_count": 28,
   "metadata": {},
   "outputs": [],
   "source": [
    "# Click em \"2014\"\n",
    "click_element(driver, '//*[@id=\"column-2\"]/div[1]/ul[2]/li[2]/a')\n",
    "scroll_to_bottom(driver)\n",
    "df_pcl2014 = scrape_page(driver)\n",
    "driver.back()"
   ]
  },
  {
   "cell_type": "code",
   "execution_count": 29,
   "metadata": {},
   "outputs": [],
   "source": [
    "# Click em \"2013\"\n",
    "click_element(driver, '//*[@id=\"column-2\"]/div[1]/ul[2]/li[3]/a')\n",
    "scroll_to_bottom(driver)\n",
    "df_pcl2013 = scrape_page(driver)\n",
    "driver.back()"
   ]
  },
  {
   "cell_type": "code",
   "execution_count": 30,
   "metadata": {},
   "outputs": [],
   "source": [
    "# Click em \"2012\"\n",
    "click_element(driver, '//*[@id=\"column-2\"]/div[1]/ul[2]/li[4]/a')\n",
    "scroll_to_bottom(driver)\n",
    "df_pcl2012 = scrape_page(driver)\n",
    "driver.back()"
   ]
  },
  {
   "cell_type": "code",
   "execution_count": 31,
   "metadata": {},
   "outputs": [],
   "source": [
    "# Click em \"2011\"\n",
    "click_element(driver, '//*[@id=\"column-2\"]/div[1]/ul[2]/li[5]/a')\n",
    "scroll_to_bottom(driver)\n",
    "df_pcl2011 = scrape_page(driver)\n",
    "driver.back()"
   ]
  },
  {
   "cell_type": "code",
   "execution_count": 32,
   "metadata": {},
   "outputs": [],
   "source": [
    "# Click em \"2010\"\n",
    "click_element(driver, '//*[@id=\"column-2\"]/div[1]/ul[2]/li[6]/a')\n",
    "scroll_to_bottom(driver)\n",
    "df_pcl2010 = scrape_page(driver)\n",
    "driver.back()"
   ]
  },
  {
   "cell_type": "code",
   "execution_count": 33,
   "metadata": {},
   "outputs": [],
   "source": [
    "# Click em \"2009\"\n",
    "click_element(driver, '//*[@id=\"column-2\"]/div[1]/ul[2]/li[7]/a')\n",
    "scroll_to_bottom(driver)\n",
    "df_pcl2009 = scrape_page(driver)\n",
    "driver.back()"
   ]
  },
  {
   "cell_type": "code",
   "execution_count": 34,
   "metadata": {},
   "outputs": [],
   "source": [
    "# Click em \"2008\"\n",
    "click_element(driver, '//*[@id=\"column-2\"]/div[1]/ul[2]/li[8]/a')\n",
    "scroll_to_bottom(driver)\n",
    "df_pcl2008 = scrape_page(driver)\n",
    "driver.back()"
   ]
  },
  {
   "cell_type": "code",
   "execution_count": 35,
   "metadata": {},
   "outputs": [],
   "source": [
    "# Click em \"2007\"\n",
    "click_element(driver, '//*[@id=\"column-2\"]/div[1]/ul[2]/li[9]/a')\n",
    "scroll_to_bottom(driver)\n",
    "df_pcl2007 = scrape_page(driver)\n",
    "driver.back()"
   ]
  },
  {
   "cell_type": "code",
   "execution_count": 36,
   "metadata": {},
   "outputs": [],
   "source": [
    "# Click em \"2006\"\n",
    "click_element(driver, '//*[@id=\"column-2\"]/div[1]/ul[3]/li[1]/a')\n",
    "scroll_to_bottom(driver)\n",
    "df_pcl2006 = scrape_page(driver)\n",
    "driver.back()"
   ]
  },
  {
   "cell_type": "code",
   "execution_count": 37,
   "metadata": {},
   "outputs": [],
   "source": [
    "# Click em \"2005\"\n",
    "click_element(driver, '//*[@id=\"column-2\"]/div[1]/ul[3]/li[2]/a')\n",
    "scroll_to_bottom(driver)\n",
    "df_pcl2005 = scrape_page(driver)\n",
    "driver.back()"
   ]
  },
  {
   "cell_type": "code",
   "execution_count": 38,
   "metadata": {},
   "outputs": [],
   "source": [
    "# Click em \"2004\"\n",
    "click_element(driver, '//*[@id=\"column-2\"]/div[1]/ul[3]/li[3]/a')\n",
    "scroll_to_bottom(driver)\n",
    "df_pcl2004 = scrape_page(driver)\n",
    "driver.back()"
   ]
  },
  {
   "cell_type": "code",
   "execution_count": 39,
   "metadata": {},
   "outputs": [],
   "source": [
    "# Click em \"2002\"\n",
    "click_element(driver, '//*[@id=\"column-2\"]/div[1]/ul[3]/li[4]/a')\n",
    "scroll_to_bottom(driver)\n",
    "df_pcl2002 = scrape_page(driver)\n",
    "driver.back()"
   ]
  },
  {
   "cell_type": "code",
   "execution_count": 40,
   "metadata": {},
   "outputs": [],
   "source": [
    "# Click em \"1999\"\n",
    "click_element(driver, '//*[@id=\"column-2\"]/div[1]/ul[3]/li[5]/a')\n",
    "scroll_to_bottom(driver)\n",
    "df_pcl1999 = scrape_page(driver)\n",
    "driver.back()"
   ]
  },
  {
   "cell_type": "code",
   "execution_count": 41,
   "metadata": {},
   "outputs": [],
   "source": [
    "# Click em \"1998\"\n",
    "click_element(driver, '//*[@id=\"column-2\"]/div[1]/ul[3]/li[6]/a')\n",
    "scroll_to_bottom(driver)\n",
    "df_pcl1998 = scrape_page(driver)\n",
    "driver.back()"
   ]
  },
  {
   "cell_type": "code",
   "execution_count": 42,
   "metadata": {},
   "outputs": [],
   "source": [
    "# Click em \"1982\"\n",
    "click_element(driver, '//*[@id=\"column-2\"]/div[1]/ul[3]/li[7]/a')\n",
    "scroll_to_bottom(driver)\n",
    "df_pcl1982 = scrape_page(driver)\n",
    "driver.back()"
   ]
  },
  {
   "cell_type": "code",
   "execution_count": 43,
   "metadata": {},
   "outputs": [],
   "source": [
    "portariaConcessaoLavra = pd.concat([df_pcl1982, df_pcl1998, df_pcl1999, df_pcl2002, df_pcl2004, df_pcl2005, df_pcl2006, df_pcl2007, df_pcl2008, df_pcl2009, df_pcl2010, df_pcl2011\n",
    "                                    , df_pcl2012, df_pcl2013, df_pcl2014, df_pcl2015, df_pcl2016, df_pcl2017, df_pcl2018, df_pcl2019, df_pcl2020, df_pcl2021, df_pcl2022, df_pcl2023\n",
    "                                    , df_pcl2024])"
   ]
  },
  {
   "cell_type": "code",
   "execution_count": 44,
   "metadata": {},
   "outputs": [
    {
     "data": {
      "text/html": [
       "<div>\n",
       "<style scoped>\n",
       "    .dataframe tbody tr th:only-of-type {\n",
       "        vertical-align: middle;\n",
       "    }\n",
       "\n",
       "    .dataframe tbody tr th {\n",
       "        vertical-align: top;\n",
       "    }\n",
       "\n",
       "    .dataframe thead th {\n",
       "        text-align: right;\n",
       "    }\n",
       "</style>\n",
       "<table border=\"1\" class=\"dataframe\">\n",
       "  <thead>\n",
       "    <tr style=\"text-align: right;\">\n",
       "      <th></th>\n",
       "      <th>0</th>\n",
       "      <th>1</th>\n",
       "      <th>2</th>\n",
       "    </tr>\n",
       "  </thead>\n",
       "  <tbody>\n",
       "    <tr>\n",
       "      <th>0</th>\n",
       "      <td>PORTARIA Nº 1.417, DE 05 DE OUTUBRO DE 1982</td>\n",
       "      <td>Outorga à MARSAL - Marmore Salviano S/A conces...</td>\n",
       "      <td>11/10/1982 | 16:04:48</td>\n",
       "    </tr>\n",
       "    <tr>\n",
       "      <th>0</th>\n",
       "      <td>PORTARIA Nº 9, DE 9 DE JANEIRO DE 1998</td>\n",
       "      <td>Outorga à COMPANHIA DE CIMENTO GOIÁS, concessã...</td>\n",
       "      <td>14/01/1998 | 13:50:44</td>\n",
       "    </tr>\n",
       "    <tr>\n",
       "      <th>0</th>\n",
       "      <td>PORTARIA Nº 450, DE 17 DE NOVEMBRO DE 1999</td>\n",
       "      <td>Outorga à ENGEXPLO - DESMONTE A EXPLO- SIVOS L...</td>\n",
       "      <td>18/11/1999 | 16:15:49</td>\n",
       "    </tr>\n",
       "    <tr>\n",
       "      <th>0</th>\n",
       "      <td>MME - Portaria 546/2002</td>\n",
       "      <td>Outorga à MINERAÇÃO DE AREIA PARAÍBA DO SUL LT...</td>\n",
       "      <td>07/11/2002 |</td>\n",
       "    </tr>\n",
       "    <tr>\n",
       "      <th>1</th>\n",
       "      <td>MME - Portaria 287/2002</td>\n",
       "      <td>Outorga à GEO-LOG DO BRASIL LTDA, concessão pa...</td>\n",
       "      <td>19/07/2002 |</td>\n",
       "    </tr>\n",
       "    <tr>\n",
       "      <th>...</th>\n",
       "      <td>...</td>\n",
       "      <td>...</td>\n",
       "      <td>...</td>\n",
       "    </tr>\n",
       "    <tr>\n",
       "      <th>135</th>\n",
       "      <td>PORTARIA ANM N° 3/2024, DE 8 DE JANEIRO DE 2024</td>\n",
       "      <td>Outorga ao (à) titular NAVEGACAO SAO MARTINHO ...</td>\n",
       "      <td>09/01/2024 | 12:08:35</td>\n",
       "    </tr>\n",
       "    <tr>\n",
       "      <th>136</th>\n",
       "      <td>PORTARIA ANM N° 2/2024, DE 8 DE JANEIRO DE 2024</td>\n",
       "      <td>Outorga ao (à) titular ITAVEL SERVIÇOS RODOVIÁ...</td>\n",
       "      <td>09/01/2024 | 12:07:18</td>\n",
       "    </tr>\n",
       "    <tr>\n",
       "      <th>137</th>\n",
       "      <td>PORTARIA ANM N° 1/2024, DE 4 DE JANEIRO DE 2024</td>\n",
       "      <td>Outorga ao (à) titular PIAUI NIQUEL METAIS S/A...</td>\n",
       "      <td>05/01/2024 | 15:13:57</td>\n",
       "    </tr>\n",
       "    <tr>\n",
       "      <th>138</th>\n",
       "      <td>PORTARIA ANM N° 601/2023, DE 29 DE DEZEMBRO DE...</td>\n",
       "      <td>Outorga ao (à) titular PEDREIRA COSME E DAMIAO...</td>\n",
       "      <td>03/01/2024 | 14:35:00</td>\n",
       "    </tr>\n",
       "    <tr>\n",
       "      <th>139</th>\n",
       "      <td>PORTARIA ANM N° 600/2023, DE 29 DE DEZEMBRO DE...</td>\n",
       "      <td>Outorga ao (à) titular GLOBUS MINERACAO COMERC...</td>\n",
       "      <td>03/01/2024 | 14:47:47</td>\n",
       "    </tr>\n",
       "  </tbody>\n",
       "</table>\n",
       "<p>6976 rows × 3 columns</p>\n",
       "</div>"
      ],
      "text/plain": [
       "                                                     0  \\\n",
       "0          PORTARIA Nº 1.417, DE 05 DE OUTUBRO DE 1982   \n",
       "0               PORTARIA Nº 9, DE 9 DE JANEIRO DE 1998   \n",
       "0           PORTARIA Nº 450, DE 17 DE NOVEMBRO DE 1999   \n",
       "0                              MME - Portaria 546/2002   \n",
       "1                              MME - Portaria 287/2002   \n",
       "..                                                 ...   \n",
       "135    PORTARIA ANM N° 3/2024, DE 8 DE JANEIRO DE 2024   \n",
       "136    PORTARIA ANM N° 2/2024, DE 8 DE JANEIRO DE 2024   \n",
       "137    PORTARIA ANM N° 1/2024, DE 4 DE JANEIRO DE 2024   \n",
       "138  PORTARIA ANM N° 601/2023, DE 29 DE DEZEMBRO DE...   \n",
       "139  PORTARIA ANM N° 600/2023, DE 29 DE DEZEMBRO DE...   \n",
       "\n",
       "                                                     1                      2  \n",
       "0    Outorga à MARSAL - Marmore Salviano S/A conces...  11/10/1982 | 16:04:48  \n",
       "0    Outorga à COMPANHIA DE CIMENTO GOIÁS, concessã...  14/01/1998 | 13:50:44  \n",
       "0    Outorga à ENGEXPLO - DESMONTE A EXPLO- SIVOS L...  18/11/1999 | 16:15:49  \n",
       "0    Outorga à MINERAÇÃO DE AREIA PARAÍBA DO SUL LT...           07/11/2002 |  \n",
       "1    Outorga à GEO-LOG DO BRASIL LTDA, concessão pa...           19/07/2002 |  \n",
       "..                                                 ...                    ...  \n",
       "135  Outorga ao (à) titular NAVEGACAO SAO MARTINHO ...  09/01/2024 | 12:08:35  \n",
       "136  Outorga ao (à) titular ITAVEL SERVIÇOS RODOVIÁ...  09/01/2024 | 12:07:18  \n",
       "137  Outorga ao (à) titular PIAUI NIQUEL METAIS S/A...  05/01/2024 | 15:13:57  \n",
       "138  Outorga ao (à) titular PEDREIRA COSME E DAMIAO...  03/01/2024 | 14:35:00  \n",
       "139  Outorga ao (à) titular GLOBUS MINERACAO COMERC...  03/01/2024 | 14:47:47  \n",
       "\n",
       "[6976 rows x 3 columns]"
      ]
     },
     "execution_count": 44,
     "metadata": {},
     "output_type": "execute_result"
    }
   ],
   "source": [
    "portariaConcessaoLavra"
   ]
  }
 ],
 "metadata": {
  "kernelspec": {
   "display_name": "Python 3",
   "language": "python",
   "name": "python3"
  },
  "language_info": {
   "codemirror_mode": {
    "name": "ipython",
    "version": 3
   },
   "file_extension": ".py",
   "mimetype": "text/x-python",
   "name": "python",
   "nbconvert_exporter": "python",
   "pygments_lexer": "ipython3",
   "version": "3.12.2"
  }
 },
 "nbformat": 4,
 "nbformat_minor": 2
}
