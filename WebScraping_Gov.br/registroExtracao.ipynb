{
 "cells": [
  {
   "cell_type": "code",
   "execution_count": 1,
   "metadata": {},
   "outputs": [
    {
     "name": "stdout",
     "output_type": "stream",
     "text": [
      "Requirement already satisfied: selenium in c:\\users\\juliana.pires\\appdata\\local\\programs\\python\\python312\\lib\\site-packages (4.19.0)\n",
      "Requirement already satisfied: urllib3<3,>=1.26 in c:\\users\\juliana.pires\\appdata\\local\\programs\\python\\python312\\lib\\site-packages (from urllib3[socks]<3,>=1.26->selenium) (2.2.1)\n",
      "Requirement already satisfied: trio~=0.17 in c:\\users\\juliana.pires\\appdata\\local\\programs\\python\\python312\\lib\\site-packages (from selenium) (0.25.0)\n",
      "Requirement already satisfied: trio-websocket~=0.9 in c:\\users\\juliana.pires\\appdata\\local\\programs\\python\\python312\\lib\\site-packages (from selenium) (0.11.1)\n",
      "Requirement already satisfied: certifi>=2021.10.8 in c:\\users\\juliana.pires\\appdata\\local\\programs\\python\\python312\\lib\\site-packages (from selenium) (2024.2.2)\n",
      "Requirement already satisfied: typing_extensions>=4.9.0 in c:\\users\\juliana.pires\\appdata\\local\\programs\\python\\python312\\lib\\site-packages (from selenium) (4.10.0)\n",
      "Requirement already satisfied: attrs>=23.2.0 in c:\\users\\juliana.pires\\appdata\\local\\programs\\python\\python312\\lib\\site-packages (from trio~=0.17->selenium) (23.2.0)\n",
      "Requirement already satisfied: sortedcontainers in c:\\users\\juliana.pires\\appdata\\local\\programs\\python\\python312\\lib\\site-packages (from trio~=0.17->selenium) (2.4.0)\n",
      "Requirement already satisfied: idna in c:\\users\\juliana.pires\\appdata\\local\\programs\\python\\python312\\lib\\site-packages (from trio~=0.17->selenium) (3.6)\n",
      "Requirement already satisfied: outcome in c:\\users\\juliana.pires\\appdata\\local\\programs\\python\\python312\\lib\\site-packages (from trio~=0.17->selenium) (1.3.0.post0)\n",
      "Requirement already satisfied: sniffio>=1.3.0 in c:\\users\\juliana.pires\\appdata\\local\\programs\\python\\python312\\lib\\site-packages (from trio~=0.17->selenium) (1.3.1)\n",
      "Requirement already satisfied: cffi>=1.14 in c:\\users\\juliana.pires\\appdata\\local\\programs\\python\\python312\\lib\\site-packages (from trio~=0.17->selenium) (1.16.0)\n",
      "Requirement already satisfied: wsproto>=0.14 in c:\\users\\juliana.pires\\appdata\\local\\programs\\python\\python312\\lib\\site-packages (from trio-websocket~=0.9->selenium) (1.2.0)\n",
      "Requirement already satisfied: pysocks!=1.5.7,<2.0,>=1.5.6 in c:\\users\\juliana.pires\\appdata\\local\\programs\\python\\python312\\lib\\site-packages (from urllib3[socks]<3,>=1.26->selenium) (1.7.1)\n",
      "Requirement already satisfied: pycparser in c:\\users\\juliana.pires\\appdata\\local\\programs\\python\\python312\\lib\\site-packages (from cffi>=1.14->trio~=0.17->selenium) (2.21)\n",
      "Requirement already satisfied: h11<1,>=0.9.0 in c:\\users\\juliana.pires\\appdata\\local\\programs\\python\\python312\\lib\\site-packages (from wsproto>=0.14->trio-websocket~=0.9->selenium) (0.14.0)\n",
      "Requirement already satisfied: chromedriver-autoinstaller in c:\\users\\juliana.pires\\appdata\\local\\programs\\python\\python312\\lib\\site-packages (0.6.4)\n",
      "Requirement already satisfied: packaging>=23.1 in c:\\users\\juliana.pires\\appdata\\roaming\\python\\python312\\site-packages (from chromedriver-autoinstaller) (24.0)\n",
      "Requirement already satisfied: pandas in c:\\users\\juliana.pires\\appdata\\local\\programs\\python\\python312\\lib\\site-packages (2.2.1)\n",
      "Requirement already satisfied: numpy<2,>=1.26.0 in c:\\users\\juliana.pires\\appdata\\local\\programs\\python\\python312\\lib\\site-packages (from pandas) (1.26.4)\n",
      "Requirement already satisfied: python-dateutil>=2.8.2 in c:\\users\\juliana.pires\\appdata\\roaming\\python\\python312\\site-packages (from pandas) (2.9.0.post0)\n",
      "Requirement already satisfied: pytz>=2020.1 in c:\\users\\juliana.pires\\appdata\\local\\programs\\python\\python312\\lib\\site-packages (from pandas) (2024.1)\n",
      "Requirement already satisfied: tzdata>=2022.7 in c:\\users\\juliana.pires\\appdata\\local\\programs\\python\\python312\\lib\\site-packages (from pandas) (2024.1)\n",
      "Requirement already satisfied: six>=1.5 in c:\\users\\juliana.pires\\appdata\\roaming\\python\\python312\\site-packages (from python-dateutil>=2.8.2->pandas) (1.16.0)\n",
      "Requirement already satisfied: requests in c:\\users\\juliana.pires\\appdata\\local\\programs\\python\\python312\\lib\\site-packages (2.31.0)\n",
      "Requirement already satisfied: charset-normalizer<4,>=2 in c:\\users\\juliana.pires\\appdata\\local\\programs\\python\\python312\\lib\\site-packages (from requests) (3.3.2)\n",
      "Requirement already satisfied: idna<4,>=2.5 in c:\\users\\juliana.pires\\appdata\\local\\programs\\python\\python312\\lib\\site-packages (from requests) (3.6)\n",
      "Requirement already satisfied: urllib3<3,>=1.21.1 in c:\\users\\juliana.pires\\appdata\\local\\programs\\python\\python312\\lib\\site-packages (from requests) (2.2.1)\n",
      "Requirement already satisfied: certifi>=2017.4.17 in c:\\users\\juliana.pires\\appdata\\local\\programs\\python\\python312\\lib\\site-packages (from requests) (2024.2.2)\n",
      "Requirement already satisfied: bs4 in c:\\users\\juliana.pires\\appdata\\local\\programs\\python\\python312\\lib\\site-packages (0.0.2)\n",
      "Requirement already satisfied: beautifulsoup4 in c:\\users\\juliana.pires\\appdata\\local\\programs\\python\\python312\\lib\\site-packages (from bs4) (4.12.3)\n",
      "Requirement already satisfied: soupsieve>1.2 in c:\\users\\juliana.pires\\appdata\\local\\programs\\python\\python312\\lib\\site-packages (from beautifulsoup4->bs4) (2.5)\n"
     ]
    }
   ],
   "source": [
    "!pip install selenium\n",
    "!pip install chromedriver-autoinstaller\n",
    "!pip install pandas\n",
    "!pip install requests\n",
    "!pip install bs4"
   ]
  },
  {
   "cell_type": "code",
   "execution_count": 2,
   "metadata": {},
   "outputs": [],
   "source": [
    "import pandas as pd\n",
    "import time\n",
    "import requests\n",
    "import chromedriver_autoinstaller\n",
    "\n",
    "from selenium import webdriver\n",
    "from selenium.webdriver.chrome.service import Service\n",
    "from selenium.webdriver.common.by import By\n",
    "from selenium.webdriver.common.keys import Keys\n",
    "from selenium.webdriver.support.ui import Select\n",
    "from selenium.webdriver.chrome.options import Options\n",
    "from bs4 import BeautifulSoup"
   ]
  },
  {
   "cell_type": "code",
   "execution_count": 3,
   "metadata": {},
   "outputs": [],
   "source": [
    "def scroll_to_bottom(driver):\n",
    "    last_height = driver.execute_script(\"return document.body.scrollHeight\")\n",
    "    while True:\n",
    "        driver.execute_script(\"window.scrollTo(0, document.body.scrollHeight);\")\n",
    "        time.sleep(5)\n",
    "        new_height = driver.execute_script(\"return document.body.scrollHeight\")\n",
    "        if new_height == last_height:\n",
    "            break\n",
    "        last_height = new_height"
   ]
  },
  {
   "cell_type": "code",
   "execution_count": 4,
   "metadata": {},
   "outputs": [],
   "source": [
    "def click_element(driver, xpath):\n",
    "    driver.find_element(By.XPATH, xpath).click()"
   ]
  },
  {
   "cell_type": "code",
   "execution_count": 5,
   "metadata": {},
   "outputs": [],
   "source": [
    "def scrape_page(driver):\n",
    "    soup = BeautifulSoup(driver.page_source, 'html.parser')\n",
    "    tabela = soup.find('div', {'class': {'col-lg-11 col-md-11 col-sm-12'}})\n",
    "    titulos = tabela.find_all('strong', {})\n",
    "    conteudos = tabela.find_all('p')[0::2]\n",
    "    datas_publicacao = tabela.find_all('p', {'class': 'data-hora'})\n",
    "\n",
    "    lista_titulos = [titulo.get_text().strip() for titulo in titulos]\n",
    "    lista_conteudos = [conteudo.get_text().strip() for conteudo in conteudos]\n",
    "    lista_datas_publicacao = [data.get_text().strip() for data in datas_publicacao]\n",
    "\n",
    "    return pd.DataFrame([lista_titulos, lista_conteudos, lista_datas_publicacao]).T"
   ]
  },
  {
   "cell_type": "code",
   "execution_count": 6,
   "metadata": {},
   "outputs": [],
   "source": [
    "service = webdriver.chrome.service.Service()\n",
    "\n",
    "options = webdriver.ChromeOptions()\n",
    "\n",
    "driver = webdriver.Chrome(service=service, options=options)"
   ]
  },
  {
   "cell_type": "code",
   "execution_count": 7,
   "metadata": {},
   "outputs": [],
   "source": [
    "driver.get(\"https://anmlegis.datalegis.net/action/ActionDatalegis.php?acao=apresentacao&cod_modulo=351&cod_menu=8014\")"
   ]
  },
  {
   "cell_type": "code",
   "execution_count": 8,
   "metadata": {},
   "outputs": [],
   "source": [
    "# Click em \"Títulos Outorgados\"\n",
    "click_element(driver, '//*[@id=\"column-2\"]/div[1]/a[4]')"
   ]
  },
  {
   "cell_type": "code",
   "execution_count": 9,
   "metadata": {},
   "outputs": [],
   "source": [
    "# Click em \"Registro de extração\"\n",
    "click_element(driver, '//*[@id=\"column-2\"]/div/div[2]/div[4]/ul/li[6]/a')"
   ]
  },
  {
   "cell_type": "code",
   "execution_count": 10,
   "metadata": {},
   "outputs": [],
   "source": [
    "# Click em \"2024\"\n",
    "click_element(driver, '//*[@id=\"column-2\"]/div[1]/ul/li[1]/a')\n",
    "scroll_to_bottom(driver)\n",
    "df_extracao2024 = scrape_page(driver)\n",
    "driver.back()"
   ]
  },
  {
   "cell_type": "code",
   "execution_count": 11,
   "metadata": {},
   "outputs": [],
   "source": [
    "# Click em \"2023\"\n",
    "click_element(driver, '//*[@id=\"column-2\"]/div[1]/ul/li[2]/a')\n",
    "scroll_to_bottom(driver)\n",
    "df_extracao2023 = scrape_page(driver)\n",
    "driver.back()"
   ]
  },
  {
   "cell_type": "code",
   "execution_count": 12,
   "metadata": {},
   "outputs": [],
   "source": [
    "# Click em \"2022\"\n",
    "click_element(driver, '//*[@id=\"column-2\"]/div[1]/ul/li[3]/a')\n",
    "scroll_to_bottom(driver)\n",
    "df_extracao2022 = scrape_page(driver)\n",
    "driver.back()"
   ]
  },
  {
   "cell_type": "code",
   "execution_count": 13,
   "metadata": {},
   "outputs": [],
   "source": [
    "# Click em \"2021\"\n",
    "click_element(driver, '//*[@id=\"column-2\"]/div[1]/ul/li[4]/a')\n",
    "scroll_to_bottom(driver)\n",
    "df_extracao2021 = scrape_page(driver)\n",
    "driver.back()"
   ]
  },
  {
   "cell_type": "code",
   "execution_count": 14,
   "metadata": {},
   "outputs": [],
   "source": [
    "# Click em \"2020\"\n",
    "click_element(driver, '//*[@id=\"column-2\"]/div[1]/ul/li[5]/a')\n",
    "scroll_to_bottom(driver)\n",
    "df_extracao2020 = scrape_page(driver)\n",
    "driver.back()"
   ]
  },
  {
   "cell_type": "code",
   "execution_count": 15,
   "metadata": {},
   "outputs": [],
   "source": [
    "registroExtracao = pd.concat([df_extracao2020, df_extracao2021, df_extracao2022, df_extracao2023, df_extracao2024])"
   ]
  },
  {
   "cell_type": "code",
   "execution_count": 16,
   "metadata": {},
   "outputs": [
    {
     "data": {
      "text/html": [
       "<div>\n",
       "<style scoped>\n",
       "    .dataframe tbody tr th:only-of-type {\n",
       "        vertical-align: middle;\n",
       "    }\n",
       "\n",
       "    .dataframe tbody tr th {\n",
       "        vertical-align: top;\n",
       "    }\n",
       "\n",
       "    .dataframe thead th {\n",
       "        text-align: right;\n",
       "    }\n",
       "</style>\n",
       "<table border=\"1\" class=\"dataframe\">\n",
       "  <thead>\n",
       "    <tr style=\"text-align: right;\">\n",
       "      <th></th>\n",
       "      <th>0</th>\n",
       "      <th>1</th>\n",
       "      <th>2</th>\n",
       "    </tr>\n",
       "  </thead>\n",
       "  <tbody>\n",
       "    <tr>\n",
       "      <th>0</th>\n",
       "      <td>REGISTRO DE EXTRAÇÃO Nº 73/2020</td>\n",
       "      <td>Expede a DECLARAÇÃO DE REGISTRO DE EXTRAÇÃO, p...</td>\n",
       "      <td>31/12/2020 | 09:26:08</td>\n",
       "    </tr>\n",
       "    <tr>\n",
       "      <th>1</th>\n",
       "      <td>REGISTRO DE EXTRAÇÃO Nº 72/2020</td>\n",
       "      <td>Expede a DECLARAÇÃO DE REGISTRO DE EXTRAÇÃO, p...</td>\n",
       "      <td>31/12/2020 | 09:10:13</td>\n",
       "    </tr>\n",
       "    <tr>\n",
       "      <th>2</th>\n",
       "      <td>REGISTRO DE EXTRAÇÃO Nº 173/2020</td>\n",
       "      <td>Expede a DECLARAÇÃO DE REGISTRO DE EXTRAÇÃO, p...</td>\n",
       "      <td>30/12/2020 | 10:51:46</td>\n",
       "    </tr>\n",
       "    <tr>\n",
       "      <th>3</th>\n",
       "      <td>REGISTRO DE EXTRAÇÃO Nº 172/2020</td>\n",
       "      <td>Expedir a DECLARAÇÃO DE REGISTRO DE EXTRAÇÃO, ...</td>\n",
       "      <td>30/12/2020 | 10:48:50</td>\n",
       "    </tr>\n",
       "    <tr>\n",
       "      <th>4</th>\n",
       "      <td>REGISTRO DE EXTRAÇÃO Nº 170/2020</td>\n",
       "      <td>Expede a DECLARAÇÃO DE REGISTRO DE EXTRAÇÃO, p...</td>\n",
       "      <td>30/12/2020 | 12:24:23</td>\n",
       "    </tr>\n",
       "    <tr>\n",
       "      <th>...</th>\n",
       "      <td>...</td>\n",
       "      <td>...</td>\n",
       "      <td>...</td>\n",
       "    </tr>\n",
       "    <tr>\n",
       "      <th>49</th>\n",
       "      <td>REGISTRO DE EXTRAÇÃO Nº 4/2024</td>\n",
       "      <td>Expede a DECLARAÇÃO DE REGISTRO DE EXTRAÇÃO, p...</td>\n",
       "      <td>24/01/2024 | 08:25:00</td>\n",
       "    </tr>\n",
       "    <tr>\n",
       "      <th>50</th>\n",
       "      <td>REGISTRO DE EXTRAÇÃO Nº 3/2024</td>\n",
       "      <td>Expede a DECLARAÇÃO DE REGISTRO DE EXTRAÇÃO, p...</td>\n",
       "      <td>24/01/2024 | 08:20:02</td>\n",
       "    </tr>\n",
       "    <tr>\n",
       "      <th>51</th>\n",
       "      <td>REGISTRO DE EXTRAÇÃO Nº 2/2024</td>\n",
       "      <td>Expede a DECLARAÇÃO DE REGISTRO DE EXTRAÇÃO, p...</td>\n",
       "      <td>24/01/2024 | 08:17:56</td>\n",
       "    </tr>\n",
       "    <tr>\n",
       "      <th>52</th>\n",
       "      <td>REGISTRO DE EXTRAÇÃO Nº 1/2024</td>\n",
       "      <td>Expede a DECLARAÇÃO DE REGISTRO DE EXTRAÇÃO, p...</td>\n",
       "      <td>24/01/2024 | 08:12:07</td>\n",
       "    </tr>\n",
       "    <tr>\n",
       "      <th>53</th>\n",
       "      <td>REGISTRO DE EXTRAÇÃO Nº 6/2024</td>\n",
       "      <td>Expede a DECLARAÇÃO DE REGISTRO DE EXTRAÇÃO, p...</td>\n",
       "      <td>23/01/2024 | 16:03:33</td>\n",
       "    </tr>\n",
       "  </tbody>\n",
       "</table>\n",
       "<p>506 rows × 3 columns</p>\n",
       "</div>"
      ],
      "text/plain": [
       "                                   0  \\\n",
       "0    REGISTRO DE EXTRAÇÃO Nº 73/2020   \n",
       "1    REGISTRO DE EXTRAÇÃO Nº 72/2020   \n",
       "2   REGISTRO DE EXTRAÇÃO Nº 173/2020   \n",
       "3   REGISTRO DE EXTRAÇÃO Nº 172/2020   \n",
       "4   REGISTRO DE EXTRAÇÃO Nº 170/2020   \n",
       "..                               ...   \n",
       "49    REGISTRO DE EXTRAÇÃO Nº 4/2024   \n",
       "50    REGISTRO DE EXTRAÇÃO Nº 3/2024   \n",
       "51    REGISTRO DE EXTRAÇÃO Nº 2/2024   \n",
       "52    REGISTRO DE EXTRAÇÃO Nº 1/2024   \n",
       "53    REGISTRO DE EXTRAÇÃO Nº 6/2024   \n",
       "\n",
       "                                                    1                      2  \n",
       "0   Expede a DECLARAÇÃO DE REGISTRO DE EXTRAÇÃO, p...  31/12/2020 | 09:26:08  \n",
       "1   Expede a DECLARAÇÃO DE REGISTRO DE EXTRAÇÃO, p...  31/12/2020 | 09:10:13  \n",
       "2   Expede a DECLARAÇÃO DE REGISTRO DE EXTRAÇÃO, p...  30/12/2020 | 10:51:46  \n",
       "3   Expedir a DECLARAÇÃO DE REGISTRO DE EXTRAÇÃO, ...  30/12/2020 | 10:48:50  \n",
       "4   Expede a DECLARAÇÃO DE REGISTRO DE EXTRAÇÃO, p...  30/12/2020 | 12:24:23  \n",
       "..                                                ...                    ...  \n",
       "49  Expede a DECLARAÇÃO DE REGISTRO DE EXTRAÇÃO, p...  24/01/2024 | 08:25:00  \n",
       "50  Expede a DECLARAÇÃO DE REGISTRO DE EXTRAÇÃO, p...  24/01/2024 | 08:20:02  \n",
       "51  Expede a DECLARAÇÃO DE REGISTRO DE EXTRAÇÃO, p...  24/01/2024 | 08:17:56  \n",
       "52  Expede a DECLARAÇÃO DE REGISTRO DE EXTRAÇÃO, p...  24/01/2024 | 08:12:07  \n",
       "53  Expede a DECLARAÇÃO DE REGISTRO DE EXTRAÇÃO, p...  23/01/2024 | 16:03:33  \n",
       "\n",
       "[506 rows x 3 columns]"
      ]
     },
     "execution_count": 16,
     "metadata": {},
     "output_type": "execute_result"
    }
   ],
   "source": [
    "registroExtracao"
   ]
  }
 ],
 "metadata": {
  "kernelspec": {
   "display_name": "Python 3",
   "language": "python",
   "name": "python3"
  },
  "language_info": {
   "codemirror_mode": {
    "name": "ipython",
    "version": 3
   },
   "file_extension": ".py",
   "mimetype": "text/x-python",
   "name": "python",
   "nbconvert_exporter": "python",
   "pygments_lexer": "ipython3",
   "version": "3.12.2"
  }
 },
 "nbformat": 4,
 "nbformat_minor": 2
}
