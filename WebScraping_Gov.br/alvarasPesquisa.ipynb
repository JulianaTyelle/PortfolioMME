{
 "cells": [
  {
   "cell_type": "code",
   "execution_count": 1,
   "metadata": {},
   "outputs": [
    {
     "name": "stdout",
     "output_type": "stream",
     "text": [
      "Requirement already satisfied: selenium in c:\\users\\juliana.pires\\appdata\\local\\programs\\python\\python312\\lib\\site-packages (4.19.0)\n",
      "Requirement already satisfied: urllib3<3,>=1.26 in c:\\users\\juliana.pires\\appdata\\local\\programs\\python\\python312\\lib\\site-packages (from urllib3[socks]<3,>=1.26->selenium) (2.2.1)\n",
      "Requirement already satisfied: trio~=0.17 in c:\\users\\juliana.pires\\appdata\\local\\programs\\python\\python312\\lib\\site-packages (from selenium) (0.25.0)\n",
      "Requirement already satisfied: trio-websocket~=0.9 in c:\\users\\juliana.pires\\appdata\\local\\programs\\python\\python312\\lib\\site-packages (from selenium) (0.11.1)\n",
      "Requirement already satisfied: certifi>=2021.10.8 in c:\\users\\juliana.pires\\appdata\\local\\programs\\python\\python312\\lib\\site-packages (from selenium) (2024.2.2)\n",
      "Requirement already satisfied: typing_extensions>=4.9.0 in c:\\users\\juliana.pires\\appdata\\local\\programs\\python\\python312\\lib\\site-packages (from selenium) (4.10.0)\n",
      "Requirement already satisfied: attrs>=23.2.0 in c:\\users\\juliana.pires\\appdata\\local\\programs\\python\\python312\\lib\\site-packages (from trio~=0.17->selenium) (23.2.0)\n",
      "Requirement already satisfied: sortedcontainers in c:\\users\\juliana.pires\\appdata\\local\\programs\\python\\python312\\lib\\site-packages (from trio~=0.17->selenium) (2.4.0)\n",
      "Requirement already satisfied: idna in c:\\users\\juliana.pires\\appdata\\local\\programs\\python\\python312\\lib\\site-packages (from trio~=0.17->selenium) (3.6)\n",
      "Requirement already satisfied: outcome in c:\\users\\juliana.pires\\appdata\\local\\programs\\python\\python312\\lib\\site-packages (from trio~=0.17->selenium) (1.3.0.post0)\n",
      "Requirement already satisfied: sniffio>=1.3.0 in c:\\users\\juliana.pires\\appdata\\local\\programs\\python\\python312\\lib\\site-packages (from trio~=0.17->selenium) (1.3.1)\n",
      "Requirement already satisfied: cffi>=1.14 in c:\\users\\juliana.pires\\appdata\\local\\programs\\python\\python312\\lib\\site-packages (from trio~=0.17->selenium) (1.16.0)\n",
      "Requirement already satisfied: wsproto>=0.14 in c:\\users\\juliana.pires\\appdata\\local\\programs\\python\\python312\\lib\\site-packages (from trio-websocket~=0.9->selenium) (1.2.0)\n",
      "Requirement already satisfied: pysocks!=1.5.7,<2.0,>=1.5.6 in c:\\users\\juliana.pires\\appdata\\local\\programs\\python\\python312\\lib\\site-packages (from urllib3[socks]<3,>=1.26->selenium) (1.7.1)\n",
      "Requirement already satisfied: pycparser in c:\\users\\juliana.pires\\appdata\\local\\programs\\python\\python312\\lib\\site-packages (from cffi>=1.14->trio~=0.17->selenium) (2.21)\n",
      "Requirement already satisfied: h11<1,>=0.9.0 in c:\\users\\juliana.pires\\appdata\\local\\programs\\python\\python312\\lib\\site-packages (from wsproto>=0.14->trio-websocket~=0.9->selenium) (0.14.0)\n",
      "Requirement already satisfied: chromedriver-autoinstaller in c:\\users\\juliana.pires\\appdata\\local\\programs\\python\\python312\\lib\\site-packages (0.6.4)\n",
      "Requirement already satisfied: packaging>=23.1 in c:\\users\\juliana.pires\\appdata\\roaming\\python\\python312\\site-packages (from chromedriver-autoinstaller) (24.0)\n",
      "Requirement already satisfied: pandas in c:\\users\\juliana.pires\\appdata\\local\\programs\\python\\python312\\lib\\site-packages (2.2.1)\n",
      "Requirement already satisfied: numpy<2,>=1.26.0 in c:\\users\\juliana.pires\\appdata\\local\\programs\\python\\python312\\lib\\site-packages (from pandas) (1.26.4)\n",
      "Requirement already satisfied: python-dateutil>=2.8.2 in c:\\users\\juliana.pires\\appdata\\roaming\\python\\python312\\site-packages (from pandas) (2.9.0.post0)\n",
      "Requirement already satisfied: pytz>=2020.1 in c:\\users\\juliana.pires\\appdata\\local\\programs\\python\\python312\\lib\\site-packages (from pandas) (2024.1)\n",
      "Requirement already satisfied: tzdata>=2022.7 in c:\\users\\juliana.pires\\appdata\\local\\programs\\python\\python312\\lib\\site-packages (from pandas) (2024.1)\n",
      "Requirement already satisfied: six>=1.5 in c:\\users\\juliana.pires\\appdata\\roaming\\python\\python312\\site-packages (from python-dateutil>=2.8.2->pandas) (1.16.0)\n",
      "Requirement already satisfied: requests in c:\\users\\juliana.pires\\appdata\\local\\programs\\python\\python312\\lib\\site-packages (2.31.0)\n",
      "Requirement already satisfied: charset-normalizer<4,>=2 in c:\\users\\juliana.pires\\appdata\\local\\programs\\python\\python312\\lib\\site-packages (from requests) (3.3.2)\n",
      "Requirement already satisfied: idna<4,>=2.5 in c:\\users\\juliana.pires\\appdata\\local\\programs\\python\\python312\\lib\\site-packages (from requests) (3.6)\n",
      "Requirement already satisfied: urllib3<3,>=1.21.1 in c:\\users\\juliana.pires\\appdata\\local\\programs\\python\\python312\\lib\\site-packages (from requests) (2.2.1)\n",
      "Requirement already satisfied: certifi>=2017.4.17 in c:\\users\\juliana.pires\\appdata\\local\\programs\\python\\python312\\lib\\site-packages (from requests) (2024.2.2)\n",
      "Requirement already satisfied: bs4 in c:\\users\\juliana.pires\\appdata\\local\\programs\\python\\python312\\lib\\site-packages (0.0.2)\n",
      "Requirement already satisfied: beautifulsoup4 in c:\\users\\juliana.pires\\appdata\\local\\programs\\python\\python312\\lib\\site-packages (from bs4) (4.12.3)\n",
      "Requirement already satisfied: soupsieve>1.2 in c:\\users\\juliana.pires\\appdata\\local\\programs\\python\\python312\\lib\\site-packages (from beautifulsoup4->bs4) (2.5)\n"
     ]
    }
   ],
   "source": [
    "!pip install selenium\n",
    "!pip install chromedriver-autoinstaller\n",
    "!pip install pandas\n",
    "!pip install requests\n",
    "!pip install bs4"
   ]
  },
  {
   "cell_type": "code",
   "execution_count": 2,
   "metadata": {},
   "outputs": [],
   "source": [
    "import pandas as pd\n",
    "import time\n",
    "import requests\n",
    "import chromedriver_autoinstaller\n",
    "\n",
    "from selenium import webdriver\n",
    "from selenium.webdriver.chrome.service import Service\n",
    "from selenium.webdriver.common.by import By\n",
    "from selenium.webdriver.common.keys import Keys\n",
    "from selenium.webdriver.support.ui import Select\n",
    "from selenium.webdriver.chrome.options import Options\n",
    "from bs4 import BeautifulSoup"
   ]
  },
  {
   "cell_type": "code",
   "execution_count": 3,
   "metadata": {},
   "outputs": [],
   "source": [
    "def scroll_to_bottom(driver):\n",
    "    last_height = driver.execute_script(\"return document.body.scrollHeight\")\n",
    "    while True:\n",
    "        driver.execute_script(\"window.scrollTo(0, document.body.scrollHeight);\")\n",
    "        time.sleep(5)\n",
    "        new_height = driver.execute_script(\"return document.body.scrollHeight\")\n",
    "        if new_height == last_height:\n",
    "            break\n",
    "        last_height = new_height"
   ]
  },
  {
   "cell_type": "code",
   "execution_count": 4,
   "metadata": {},
   "outputs": [],
   "source": [
    "def click_element(driver, xpath):\n",
    "    driver.find_element(By.XPATH, xpath).click()"
   ]
  },
  {
   "cell_type": "code",
   "execution_count": 5,
   "metadata": {},
   "outputs": [],
   "source": [
    "def scrape_page(driver):\n",
    "    soup = BeautifulSoup(driver.page_source, 'html.parser')\n",
    "    tabela = soup.find('div', {'class': {'col-lg-11 col-md-11 col-sm-12'}})\n",
    "    titulos = tabela.find_all('strong', {})\n",
    "    conteudos = tabela.find_all('p')[0::2]\n",
    "    datas_publicacao = tabela.find_all('p', {'class': 'data-hora'})\n",
    "\n",
    "    lista_titulos = [titulo.get_text().strip() for titulo in titulos]\n",
    "    lista_conteudos = [conteudo.get_text().strip() for conteudo in conteudos]\n",
    "    lista_datas_publicacao = [data.get_text().strip() for data in datas_publicacao]\n",
    "\n",
    "    return pd.DataFrame([lista_titulos, lista_conteudos, lista_datas_publicacao]).T"
   ]
  },
  {
   "cell_type": "code",
   "execution_count": 25,
   "metadata": {},
   "outputs": [],
   "source": [
    "service = webdriver.chrome.service.Service()\n",
    "\n",
    "options = webdriver.ChromeOptions()\n",
    "\n",
    "driver = webdriver.Chrome(service=service, options=options)"
   ]
  },
  {
   "cell_type": "code",
   "execution_count": 26,
   "metadata": {},
   "outputs": [],
   "source": [
    "driver.get(\"https://anmlegis.datalegis.net/action/ActionDatalegis.php?acao=apresentacao&cod_modulo=351&cod_menu=8014\")"
   ]
  },
  {
   "cell_type": "code",
   "execution_count": 27,
   "metadata": {},
   "outputs": [],
   "source": [
    "# Click em \"Títulos Outorgados\"\n",
    "click_element(driver, '//*[@id=\"column-2\"]/div[1]/a[4]')"
   ]
  },
  {
   "cell_type": "code",
   "execution_count": 28,
   "metadata": {},
   "outputs": [],
   "source": [
    "# Click em \"Alvara de Pesquisa\"\n",
    "click_element(driver, '//*[@id=\"column-2\"]/div/div[2]/div[4]/ul/li[1]/a')"
   ]
  },
  {
   "cell_type": "code",
   "execution_count": 10,
   "metadata": {},
   "outputs": [],
   "source": [
    "# Click em \"2024\"\n",
    "click_element(driver, '//*[@id=\"column-2\"]/div[1]/ul[1]/li[1]/a')\n",
    "scroll_to_bottom(driver)\n",
    "alvaraPesquisa2024 = scrape_page(driver)\n",
    "driver.back()"
   ]
  },
  {
   "cell_type": "code",
   "execution_count": 11,
   "metadata": {},
   "outputs": [],
   "source": [
    "# Click em \"2023\"\n",
    "click_element(driver, '//*[@id=\"column-2\"]/div[1]/ul[1]/li[2]/a')\n",
    "scroll_to_bottom(driver)\n",
    "alvaraPesquisa2023 = scrape_page(driver)\n",
    "driver.back()"
   ]
  },
  {
   "cell_type": "code",
   "execution_count": 23,
   "metadata": {},
   "outputs": [],
   "source": [
    "# Click em \"2022\"\n",
    "click_element(driver, '//*[@id=\"column-2\"]/div[1]/ul[1]/li[3]/a')\n",
    "scroll_to_bottom(driver)\n",
    "alvaraPesquisa2022 = scrape_page(driver)\n",
    "driver.back()"
   ]
  },
  {
   "cell_type": "code",
   "execution_count": 13,
   "metadata": {},
   "outputs": [],
   "source": [
    "# Click em \"2021\"\n",
    "click_element(driver, '//*[@id=\"column-2\"]/div[1]/ul[1]/li[4]/a')\n",
    "scroll_to_bottom(driver)\n",
    "alvaraPesquisa2021 = scrape_page(driver)\n",
    "driver.back()"
   ]
  },
  {
   "cell_type": "code",
   "execution_count": 14,
   "metadata": {},
   "outputs": [],
   "source": [
    "# Click em \"2020\"\n",
    "click_element(driver, '//*[@id=\"column-2\"]/div[1]/ul[1]/li[5]/a')\n",
    "scroll_to_bottom(driver)\n",
    "alvaraPesquisa2020 = scrape_page(driver)\n",
    "driver.back()"
   ]
  },
  {
   "cell_type": "code",
   "execution_count": 15,
   "metadata": {},
   "outputs": [],
   "source": [
    "# Click em \"2019\"\n",
    "click_element(driver, '//*[@id=\"column-2\"]/div[1]/ul[1]/li[6]/a')\n",
    "scroll_to_bottom(driver)\n",
    "alvaraPesquisa2019 = scrape_page(driver)\n",
    "driver.back()"
   ]
  },
  {
   "cell_type": "code",
   "execution_count": 16,
   "metadata": {},
   "outputs": [],
   "source": [
    "# Click em \"2018\"\n",
    "click_element(driver, '//*[@id=\"column-2\"]/div[1]/ul[1]/li[7]/a')\n",
    "scroll_to_bottom(driver)\n",
    "alvaraPesquisa2018 = scrape_page(driver)\n",
    "driver.back()"
   ]
  },
  {
   "cell_type": "code",
   "execution_count": 17,
   "metadata": {},
   "outputs": [],
   "source": [
    "# Click em \"2017\"\n",
    "click_element(driver, '//*[@id=\"column-2\"]/div[1]/ul[1]/li[8]/a')\n",
    "scroll_to_bottom(driver)\n",
    "alvaraPesquisa2017 = scrape_page(driver)\n",
    "driver.back()"
   ]
  },
  {
   "cell_type": "code",
   "execution_count": 18,
   "metadata": {},
   "outputs": [],
   "source": [
    "# Click em \"2016\"\n",
    "click_element(driver, '//*[@id=\"column-2\"]/div[1]/ul[1]/li[9]/a')\n",
    "scroll_to_bottom(driver)\n",
    "alvaraPesquisa2016 = scrape_page(driver)\n",
    "driver.back()"
   ]
  },
  {
   "cell_type": "code",
   "execution_count": 19,
   "metadata": {},
   "outputs": [],
   "source": [
    "# Click em \"2015\"\n",
    "click_element(driver, '//*[@id=\"column-2\"]/div[1]/ul[1]/li[10]/a')\n",
    "scroll_to_bottom(driver)\n",
    "alvaraPesquisa2015 = scrape_page(driver)\n",
    "driver.back()"
   ]
  },
  {
   "cell_type": "code",
   "execution_count": 20,
   "metadata": {},
   "outputs": [],
   "source": [
    "# Click em \"2014\"\n",
    "click_element(driver, '//*[@id=\"column-2\"]/div[1]/ul[1]/li[11]/a')\n",
    "scroll_to_bottom(driver)\n",
    "alvaraPesquisa2014 = scrape_page(driver)\n",
    "driver.back()"
   ]
  },
  {
   "cell_type": "code",
   "execution_count": 29,
   "metadata": {},
   "outputs": [],
   "source": [
    "# Click em \"2013\"\n",
    "click_element(driver, '//*[@id=\"column-2\"]/div[1]/ul[1]/li[12]/a')\n",
    "scroll_to_bottom(driver)\n",
    "alvaraPesquisa2013 = scrape_page(driver)\n",
    "driver.back()"
   ]
  },
  {
   "cell_type": "code",
   "execution_count": null,
   "metadata": {},
   "outputs": [],
   "source": [
    "# Click em \"2012\"\n",
    "click_element(driver, '//*[@id=\"column-2\"]/div[1]/ul[2]/li[1]/a')\n",
    "scroll_to_bottom(driver)\n",
    "alvaraPesquisa2012 = scrape_page(driver)\n",
    "driver.back()"
   ]
  },
  {
   "cell_type": "code",
   "execution_count": null,
   "metadata": {},
   "outputs": [],
   "source": [
    "# Click em \"2011\"\n",
    "click_element(driver, '//*[@id=\"column-2\"]/div[1]/ul[2]/li[2]/a')\n",
    "scroll_to_bottom(driver)\n",
    "alvaraPesquisa2011 = scrape_page(driver)\n",
    "driver.back()"
   ]
  },
  {
   "cell_type": "code",
   "execution_count": null,
   "metadata": {},
   "outputs": [],
   "source": [
    "# Click em \"2010\"\n",
    "click_element(driver, '//*[@id=\"column-2\"]/div[1]/ul[2]/li[3]/a')\n",
    "scroll_to_bottom(driver)\n",
    "alvaraPesquisa2010 = scrape_page(driver)\n",
    "driver.back()"
   ]
  },
  {
   "cell_type": "code",
   "execution_count": null,
   "metadata": {},
   "outputs": [],
   "source": [
    "# Click em \"2009\"\n",
    "click_element(driver, '//*[@id=\"column-2\"]/div[1]/ul[2]/li[4]/a')\n",
    "scroll_to_bottom(driver)\n",
    "alvaraPesquisa2009 = scrape_page(driver)\n",
    "driver.back()"
   ]
  },
  {
   "cell_type": "code",
   "execution_count": null,
   "metadata": {},
   "outputs": [],
   "source": [
    "# Click em \"2008\"\n",
    "click_element(driver, '//*[@id=\"column-2\"]/div[1]/ul[2]/li[5]/a')\n",
    "scroll_to_bottom(driver)\n",
    "alvaraPesquisa2008 = scrape_page(driver)\n",
    "driver.back()"
   ]
  },
  {
   "cell_type": "code",
   "execution_count": null,
   "metadata": {},
   "outputs": [],
   "source": [
    "# Click em \"2005\"\n",
    "click_element(driver, '//*[@id=\"column-2\"]/div[1]/ul[2]/li[6]/a')\n",
    "scroll_to_bottom(driver)\n",
    "alvaraPesquisa2005 = scrape_page(driver)\n",
    "driver.back()"
   ]
  },
  {
   "cell_type": "code",
   "execution_count": null,
   "metadata": {},
   "outputs": [],
   "source": [
    "# Click em \"2002\"\n",
    "click_element(driver, '//*[@id=\"column-2\"]/div[1]/ul[2]/li[7]/a')\n",
    "scroll_to_bottom(driver)\n",
    "alvaraPesquisa2002 = scrape_page(driver)\n",
    "driver.back()"
   ]
  },
  {
   "cell_type": "code",
   "execution_count": null,
   "metadata": {},
   "outputs": [],
   "source": [
    "# Click em \"2001\"\n",
    "click_element(driver, '//*[@id=\"column-2\"]/div[1]/ul[2]/li[8]/a')\n",
    "scroll_to_bottom(driver)\n",
    "alvaraPesquisa2001 = scrape_page(driver)\n",
    "driver.back()"
   ]
  },
  {
   "cell_type": "code",
   "execution_count": null,
   "metadata": {},
   "outputs": [],
   "source": [
    "# Click em \"2000\"\n",
    "click_element(driver, '//*[@id=\"column-2\"]/div[1]/ul[2]/li[9]/a')\n",
    "scroll_to_bottom(driver)\n",
    "alvaraPesquisa2000 = scrape_page(driver)\n",
    "driver.back()"
   ]
  },
  {
   "cell_type": "code",
   "execution_count": null,
   "metadata": {},
   "outputs": [],
   "source": [
    "# Click em \"1992\"\n",
    "click_element(driver, '//*[@id=\"column-2\"]/div[1]/ul[2]/li[10]/a')\n",
    "scroll_to_bottom(driver)\n",
    "alvaraPesquisa1992 = scrape_page(driver)\n",
    "driver.back()"
   ]
  },
  {
   "cell_type": "code",
   "execution_count": null,
   "metadata": {},
   "outputs": [],
   "source": [
    "# Click em \"1985\"\n",
    "click_element(driver, '//*[@id=\"column-2\"]/div[1]/ul[2]/li[11]/a')\n",
    "scroll_to_bottom(driver)\n",
    "alvaraPesquisa1985 = scrape_page(driver)\n",
    "driver.back()"
   ]
  },
  {
   "cell_type": "code",
   "execution_count": null,
   "metadata": {},
   "outputs": [],
   "source": [
    "alvaraPesquisa = pd.concat([alvaraPesquisa1985, alvaraPesquisa1992, alvaraPesquisa2000, alvaraPesquisa2001, alvaraPesquisa2002, alvaraPesquisa2005, alvaraPesquisa2008, alvaraPesquisa2009,\n",
    "                            alvaraPesquisa2010, alvaraPesquisa2011, alvaraPesquisa2012, alvaraPesquisa2013, alvaraPesquisa2014, alvaraPesquisa2015, alvaraPesquisa2016, alvaraPesquisa2017, \n",
    "                            alvaraPesquisa2018, alvaraPesquisa2019, alvaraPesquisa2020, alvaraPesquisa2021, alvaraPesquisa2022, alvaraPesquisa2023, alvaraPesquisa2024])"
   ]
  },
  {
   "cell_type": "code",
   "execution_count": null,
   "metadata": {},
   "outputs": [
    {
     "data": {
      "text/html": [
       "<div>\n",
       "<style scoped>\n",
       "    .dataframe tbody tr th:only-of-type {\n",
       "        vertical-align: middle;\n",
       "    }\n",
       "\n",
       "    .dataframe tbody tr th {\n",
       "        vertical-align: top;\n",
       "    }\n",
       "\n",
       "    .dataframe thead th {\n",
       "        text-align: right;\n",
       "    }\n",
       "</style>\n",
       "<table border=\"1\" class=\"dataframe\">\n",
       "  <thead>\n",
       "    <tr style=\"text-align: right;\">\n",
       "      <th></th>\n",
       "      <th>0</th>\n",
       "      <th>1</th>\n",
       "      <th>2</th>\n",
       "    </tr>\n",
       "  </thead>\n",
       "  <tbody>\n",
       "    <tr>\n",
       "      <th>0</th>\n",
       "      <td>ALVARÁ N° 5473, DE 12 DE AGOSTO DE 1985</td>\n",
       "      <td>Autoriza, pelo prazo de 3 anos, BRENO DE MELO ...</td>\n",
       "      <td>19/08/1985 | 10:56:06</td>\n",
       "    </tr>\n",
       "    <tr>\n",
       "      <th>0</th>\n",
       "      <td>ALVARÁ Nº 2.817, DE 30 DE SETEMBRO DE 1992</td>\n",
       "      <td>Autoriza, pelo prazo de 03 (três) anos, LUIZ A...</td>\n",
       "      <td>07/10/1992 | 15:25:35</td>\n",
       "    </tr>\n",
       "    <tr>\n",
       "      <th>0</th>\n",
       "      <td>ALVARÁ Nº 16.025, DE 10 DE AGOSTO DE 2000</td>\n",
       "      <td>Autoriza pelo prazo de 02 (dois) anos, ROMULO ...</td>\n",
       "      <td>15/08/2000 | 15:46:34</td>\n",
       "    </tr>\n",
       "    <tr>\n",
       "      <th>1</th>\n",
       "      <td>ALVARÁ Nº 12.091, DE 29 DE MAIO DE 2000</td>\n",
       "      <td>Retifica o Alvará nº 7679.</td>\n",
       "      <td>05/06/2000 | 13:08:17</td>\n",
       "    </tr>\n",
       "    <tr>\n",
       "      <th>0</th>\n",
       "      <td>ALVARÁ Nº 8.982 DE 26 DE SETEMBRO DE 2001</td>\n",
       "      <td>Outorga o seguinte Alvará de Retificação que e...</td>\n",
       "      <td>28/09/2001 | 14:51:41</td>\n",
       "    </tr>\n",
       "    <tr>\n",
       "      <th>...</th>\n",
       "      <td>...</td>\n",
       "      <td>...</td>\n",
       "      <td>...</td>\n",
       "    </tr>\n",
       "    <tr>\n",
       "      <th>2535</th>\n",
       "      <td>ALVARÁ Nº 44/2024, DE 8 DE JANEIRO DE 2024</td>\n",
       "      <td>Autoriza pelo prazo de 3 anos, AV MINERACAO S....</td>\n",
       "      <td>09/01/2024 | 16:03:24</td>\n",
       "    </tr>\n",
       "    <tr>\n",
       "      <th>2536</th>\n",
       "      <td>ALVARÁ Nº 43/2024, DE 8 DE JANEIRO DE 2024</td>\n",
       "      <td>Autoriza pelo prazo de 3 anos, AV MINERACAO S....</td>\n",
       "      <td>09/01/2024 | 16:02:06</td>\n",
       "    </tr>\n",
       "    <tr>\n",
       "      <th>2537</th>\n",
       "      <td>ALVARÁ Nº 42/2024, DE 8 DE JANEIRO DE 2024</td>\n",
       "      <td>Autoriza pelo prazo de 3 anos, AV MINERACAO S....</td>\n",
       "      <td>09/01/2024 | 15:59:26</td>\n",
       "    </tr>\n",
       "    <tr>\n",
       "      <th>2538</th>\n",
       "      <td>ALVARÁ Nº 41/2024, DE 8 DE JANEIRO DE 2024</td>\n",
       "      <td>Autoriza pelo prazo de 3 anos, AV MINERACAO S....</td>\n",
       "      <td>09/01/2024 | 15:57:18</td>\n",
       "    </tr>\n",
       "    <tr>\n",
       "      <th>2539</th>\n",
       "      <td>ALVARÁ Nº 40/2024, DE 8 DE JANEIRO DE 2024</td>\n",
       "      <td>Autoriza pelo prazo de 3 anos, AV MINERACAO S....</td>\n",
       "      <td>09/01/2024 | 15:55:53</td>\n",
       "    </tr>\n",
       "  </tbody>\n",
       "</table>\n",
       "<p>94919 rows × 3 columns</p>\n",
       "</div>"
      ],
      "text/plain": [
       "                                               0  \\\n",
       "0        ALVARÁ N° 5473, DE 12 DE AGOSTO DE 1985   \n",
       "0     ALVARÁ Nº 2.817, DE 30 DE SETEMBRO DE 1992   \n",
       "0      ALVARÁ Nº 16.025, DE 10 DE AGOSTO DE 2000   \n",
       "1        ALVARÁ Nº 12.091, DE 29 DE MAIO DE 2000   \n",
       "0      ALVARÁ Nº 8.982 DE 26 DE SETEMBRO DE 2001   \n",
       "...                                          ...   \n",
       "2535  ALVARÁ Nº 44/2024, DE 8 DE JANEIRO DE 2024   \n",
       "2536  ALVARÁ Nº 43/2024, DE 8 DE JANEIRO DE 2024   \n",
       "2537  ALVARÁ Nº 42/2024, DE 8 DE JANEIRO DE 2024   \n",
       "2538  ALVARÁ Nº 41/2024, DE 8 DE JANEIRO DE 2024   \n",
       "2539  ALVARÁ Nº 40/2024, DE 8 DE JANEIRO DE 2024   \n",
       "\n",
       "                                                      1                      2  \n",
       "0     Autoriza, pelo prazo de 3 anos, BRENO DE MELO ...  19/08/1985 | 10:56:06  \n",
       "0     Autoriza, pelo prazo de 03 (três) anos, LUIZ A...  07/10/1992 | 15:25:35  \n",
       "0     Autoriza pelo prazo de 02 (dois) anos, ROMULO ...  15/08/2000 | 15:46:34  \n",
       "1                            Retifica o Alvará nº 7679.  05/06/2000 | 13:08:17  \n",
       "0     Outorga o seguinte Alvará de Retificação que e...  28/09/2001 | 14:51:41  \n",
       "...                                                 ...                    ...  \n",
       "2535  Autoriza pelo prazo de 3 anos, AV MINERACAO S....  09/01/2024 | 16:03:24  \n",
       "2536  Autoriza pelo prazo de 3 anos, AV MINERACAO S....  09/01/2024 | 16:02:06  \n",
       "2537  Autoriza pelo prazo de 3 anos, AV MINERACAO S....  09/01/2024 | 15:59:26  \n",
       "2538  Autoriza pelo prazo de 3 anos, AV MINERACAO S....  09/01/2024 | 15:57:18  \n",
       "2539  Autoriza pelo prazo de 3 anos, AV MINERACAO S....  09/01/2024 | 15:55:53  \n",
       "\n",
       "[94919 rows x 3 columns]"
      ]
     },
     "execution_count": 232,
     "metadata": {},
     "output_type": "execute_result"
    }
   ],
   "source": [
    "alvaraPesquisa"
   ]
  }
 ],
 "metadata": {
  "kernelspec": {
   "display_name": "Python 3",
   "language": "python",
   "name": "python3"
  },
  "language_info": {
   "codemirror_mode": {
    "name": "ipython",
    "version": 3
   },
   "file_extension": ".py",
   "mimetype": "text/x-python",
   "name": "python",
   "nbconvert_exporter": "python",
   "pygments_lexer": "ipython3",
   "version": "3.12.2"
  }
 },
 "nbformat": 4,
 "nbformat_minor": 2
}
